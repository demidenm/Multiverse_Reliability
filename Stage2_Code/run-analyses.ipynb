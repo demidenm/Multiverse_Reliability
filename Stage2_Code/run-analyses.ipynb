{
 "cells": [
  {
   "cell_type": "code",
   "execution_count": null,
   "id": "09fafc51",
   "metadata": {},
   "outputs": [],
   "source": [
    "# Uncomment and run if installation does not exist in environment\n",
    "#%pip install numpy\n",
    "#%pip install pandas\n",
    "#%pip install nibabel\n",
    "#%pip install seaborn\n",
    "#%pip install matplotlib\n",
    "#%pip install nilearn\n",
    "#%pip install pyrelimri"
   ]
  },
  {
   "cell_type": "code",
   "execution_count": null,
   "id": "272a4557-ec23-42ab-a378-1f7d2e714e96",
   "metadata": {},
   "outputs": [],
   "source": [
    "import sys\n",
    "import os\n",
    "import argparse\n",
    "import warnings\n",
    "import numpy as np\n",
    "import pandas as pd\n",
    "import nibabel as nib\n",
    "import seaborn as sns\n",
    "import matplotlib.pyplot as plt\n",
    "from nilearn import image, masking, plotting\n",
    "from glob import glob\n",
    "from pyrelimri import similarity\n",
    "from itertools import product\n",
    "from scipy.ndimage import binary_erosion\n",
    "warnings.filterwarnings(\"ignore\")\n",
    "plt.rcParams[\"font.family\"] = 'Times New Roman'"
   ]
  },
  {
   "cell_type": "code",
   "execution_count": null,
   "id": "6abcb8a3-cf05-43a6-9e08-c086dfe523be",
   "metadata": {},
   "outputs": [],
   "source": [
    "plt.rcParams[\"font.family\"]"
   ]
  },
  {
   "cell_type": "code",
   "execution_count": null,
   "id": "7be1b28b",
   "metadata": {},
   "outputs": [],
   "source": [
    "def extract_median(img_list, mask_img):\n",
    "    data_list = []\n",
    "    mask_name = os.path.basename(mask_img)\n",
    "    mask = mask_name.split('.')[0]\n",
    "    for img in img_list:\n",
    "        base_name = os.path.basename(img)\n",
    "        con, mni, motion, model, fwhm = base_name.split('_')[2:7]\n",
    "    \n",
    "        # get median value\n",
    "        nifti_img = image.load_img(img)\n",
    "        masked_data = masking.apply_mask(nifti_img, mask_img)\n",
    "        median_est = np.round(np.median(masked_data), 3)\n",
    "        \n",
    "        data_list.append({\n",
    "            'mask': mask,\n",
    "            'con': con,\n",
    "            'motion': motion,\n",
    "            'model': model,\n",
    "            'fwhm': fwhm,\n",
    "            'median_est': median_est\n",
    "        })\n",
    "    return pd.DataFrame(data_list)\n",
    "\n",
    "def calculate_average(img, mask):\n",
    "    masked_data = masking.apply_mask(image.load_img(img), mask)\n",
    "    return np.round(np.mean(masked_data), 3)\n",
    "    \n",
    "def roi_average(img_list, left_mask, right_mask):\n",
    "    data_list = []\n",
    "    for img in img_list:\n",
    "        base_name = os.path.basename(img)\n",
    "        con, mni, motion, model, fwhm = base_name.split('_')[2:7]\n",
    "    \n",
    "        # Calculate average values for left and right masks\n",
    "        avg_left = calculate_average(img, left_mask)\n",
    "        avg_right = calculate_average(img, right_mask)\n",
    "        \n",
    "        data_list.append({\n",
    "            'con': con,\n",
    "            'motion': motion,\n",
    "            'model': model,\n",
    "            'fwhm': fwhm,\n",
    "            'avg_left': avg_left,\n",
    "            'avg_right': avg_right\n",
    "        })\n",
    "    \n",
    "    return pd.DataFrame(data_list)\n",
    "\n",
    "def extract_median_rand(inp_dir,model_name, ses, task, subpra_mask, sub_mask, seed_list, n_range):\n",
    "    data_list = []\n",
    "\n",
    "    for seed_n in seed_list:\n",
    "            for n in n_range:\n",
    "                # set paths\n",
    "                icc_path = f'{inp_dir}/seed-{seed_n}_subs-{n}_task-{task}_type-run_{model_name}_stat-est.nii.gz'\n",
    "                msbtwn_path = f'{inp_dir}/seed-{seed_n}_subs-{n}_task-{task}_type-run_{model_name}_stat-msbtwn.nii.gz'\n",
    "                mswthn_path = f'{inp_dir}/seed-{seed_n}_subs-{n}_task-{task}_type-run_{model_name}_stat-mswthn.nii.gz'\n",
    "                # load images\n",
    "                icc_img = image.load_img(icc_path)\n",
    "                msbtwn_img = image.load_img(msbtwn_path)\n",
    "                mswthn_img = image.load_img(mswthn_path)\n",
    "                #mask images\n",
    "                icc_supra = masking.apply_mask(icc_img, subpra_mask)\n",
    "                icc_sub = masking.apply_mask(icc_img, sub_mask)\n",
    "                msbtwn_supra = masking.apply_mask(msbtwn_img, subpra_mask)\n",
    "                msbtwn_sub = masking.apply_mask(msbtwn_img, sub_mask)\n",
    "                mswthn_supra = masking.apply_mask(mswthn_img, subpra_mask)\n",
    "                mswthn_sub = masking.apply_mask(mswthn_img, sub_mask)\n",
    "                # extract median\n",
    "                icc_supra_med = np.round(np.median(icc_supra), 3)\n",
    "                icc_sub_med = np.round(np.median(icc_sub), 3)\n",
    "                msbtwn_supra_med = np.round(np.median(msbtwn_supra), 3)\n",
    "                msbtwn_sub_med = np.round(np.median(msbtwn_sub), 3) \n",
    "                mswthn_supra_med = np.round(np.median(mswthn_supra), 3)\n",
    "                mswthn_sub_med = np.round(np.median(mswthn_sub), 3) \n",
    "                \n",
    "                data_list.append({\n",
    "                    'seed': seed_n,\n",
    "                    'subsample_n': n,\n",
    "                    'icc_supra': icc_supra_med,\n",
    "                    'icc_sub': icc_sub_med,\n",
    "                    'msbtwn_supra': msbtwn_supra_med,\n",
    "                    'msbtwn_sub': msbtwn_sub_med,\n",
    "                    'mswthn_supra': mswthn_supra_med,\n",
    "                    'mswthn_sub': mswthn_sub_med\n",
    "                })\n",
    "    return pd.DataFrame(data_list)\n",
    "\n",
    "def file_exists(file_path):\n",
    "    return os.path.exists(file_path)\n",
    "\n",
    "# if file doesnt exist, extract media and create file, otherwise load file \n",
    "def process_dataset(imgs, mask, out_file):\n",
    "    if not file_exists(out_file):\n",
    "        print(f'file {out_file} doesnt exist, creating')\n",
    "        df = extract_median(imgs, mask)\n",
    "        df.to_csv(out_file, sep='\\t', index=False)\n",
    "    else:\n",
    "        print(f'Loading existing {out_file}')\n",
    "        df = pd.read_csv(out_file, sep='\\t')\n",
    "    return df\n",
    "\n",
    "def process_dataset_roi(imgs, left_mask, right_mask, out_file):\n",
    "    if not file_exists(out_file):\n",
    "        print(f'file {out_file} doesnt exist, creating')\n",
    "        df = roi_average(imgs, left_mask=left_mask, right_mask=right_mask)\n",
    "        df.to_csv(out_file, sep='\\t', index=False)\n",
    "    else:\n",
    "        print(f'Loading existing {out_file}')\n",
    "        df = pd.read_csv(out_file, sep='\\t')\n",
    "    return df\n",
    "\n",
    "def mean_sd_img(list_imgs):\n",
    "    # get data and stack it\n",
    "    img_list = [image.load_img(img_path) for img_path in list_imgs]\n",
    "    img_data = np.stack([img.get_fdata() for img in img_list], axis=-1)\n",
    "    # calculate the mean + sd image\n",
    "    mean_img_data = np.mean(img_data, axis=-1)\n",
    "    sd_img_data = np.std(img_data, axis=-1)\n",
    "    # convert back into space of icc imgs\n",
    "    icc_mean_img = image.new_img_like(img_list[0], mean_img_data)\n",
    "    icc_sd_img = image.new_img_like(img_list[0], sd_img_data)\n",
    "    # return mean + sd img\n",
    "    return icc_mean_img,icc_sd_img\n",
    "\n",
    "def plot_icc_maps(maps, names, coordinates, vmax):\n",
    "    num_maps = len(maps)\n",
    "    num_rows = num_maps // 2 + num_maps % 2  # Calculate the number of rows based on the number of maps\n",
    "    fig, axes = plt.subplots(num_rows, 2, figsize=(15, 12))\n",
    "\n",
    "    for i, map_type in enumerate(maps):\n",
    "        labels = names[i].split('_')\n",
    "        est_lab = labels[1]\n",
    "        #thresh_lab = labels[2]\n",
    "\n",
    "        row = i // 2\n",
    "        col = i % 2\n",
    "        \n",
    "        if num_rows == 1:  # If only one row, axes is not 2D\n",
    "            plotting.plot_stat_map(map_type, display_mode='tiled', title=f'{est_lab}',\n",
    "                                   cut_coords=coordinates, vmax=vmax, axes=axes[col])\n",
    "        else:\n",
    "            plotting.plot_stat_map(map_type, display_mode='tiled', title=f'{est_lab}',\n",
    "                                   cut_coords=coordinates, vmax=vmax, axes=axes[row, col])\n",
    "\n",
    "\n",
    "    plt.tight_layout()\n",
    "    plt.show()\n",
    "\n",
    "\n",
    "def plot_top_map(img, img_index, coordinates, vmax):\n",
    "    plotting.plot_stat_map(img[img_index], display_mode='tiled',\n",
    "                           cut_coords=coordinates, vmax=vmax)\n",
    "    \n",
    "    plt.tight_layout()\n",
    "    plt.show()\n",
    "    \n",
    "def plot_dist_imgs(imgs, img_index, mask_supra, mask_sub, \n",
    "                   bins=500, ylim=(0, 1), xlim=(-5, 50), dec_round=1, xlab=''):\n",
    "    masked_supra_data = masking.apply_mask(imgs[img_index], mask_supra)\n",
    "    masked_sub_data = masking.apply_mask(imgs[img_index], mask_sub)\n",
    "\n",
    "    # median for plots\n",
    "    med_supra = np.median(masked_supra_data)\n",
    "    med_sub = np.median(masked_sub_data)\n",
    "\n",
    "    # Plot the distribution\n",
    "    plt.hist(np.round(masked_supra_data, decimals=dec_round), bins=bins, edgecolor='black', color='black',\n",
    "             alpha=1, label='supra-thresh', density=True)  # supra-threshold mask\n",
    "    plt.hist(np.round(masked_sub_data, decimals=dec_round), bins=bins, edgecolor='black', color='yellow',\n",
    "             alpha=0.6, label='sub-thresh', density=True)  # sub-threshold mask\n",
    "\n",
    "    plt.axvline(med_supra, color='red', linestyle='dashed', linewidth=1, label='Median supra-thresh')\n",
    "    plt.axvline(med_sub, color='blue', linestyle='dashed', linewidth=1, label='Median sub-thresh')\n",
    "    plt.ylim(ylim[0], ylim[1])\n",
    "    plt.xlim(xlim[0], xlim[1])\n",
    "\n",
    "    plt.xlabel(f'{xlab}',fontname='Times New Roman')\n",
    "    plt.ylabel('Density',fontname='Times New Roman')\n",
    "\n",
    "    plt.legend()\n",
    "    plt.show()\n",
    "\n",
    "def dist_cohensd(min_img, max_img, mask,  bins=500, ylim=(0, 1), xlim=(-1, 1), dec_round=1, xlab=''):\n",
    "    min_data = masking.apply_mask(min_img, mask)\n",
    "    max_data = masking.apply_mask(max_img, mask)\n",
    "\n",
    "    # mean + sd for cohens d est\n",
    "    mean_min = np.mean(min_data)\n",
    "    mean_max = np.mean(max_data)\n",
    "    sd_min = np.std(min_data, ddof=1)\n",
    "    sd_max = np.std(max_data, ddof=1)\n",
    "\n",
    "    cohensd = (mean_max - mean_min) / np.sqrt((sd_min**2+sd_max**2)/2)\n",
    "    \n",
    "    # Plot the distribution\n",
    "    plt.hist(np.round(min_data, decimals=dec_round), bins=bins,\n",
    "             alpha=.5, label='Min. Image', density=True) \n",
    "    plt.hist(np.round(max_data, decimals=dec_round), bins=bins,\n",
    "             alpha=.5, label='Max. Image', density=True)  \n",
    "    plt.ylim(ylim[0], ylim[1])\n",
    "    plt.xlim(xlim[0], xlim[1])\n",
    "\n",
    "    plt.xlabel(f'{xlab}', fontname='Times New Roman')\n",
    "    plt.ylabel('Density',fontname='Times New Roman')\n",
    "    plt.title(f\"Cohen's D Between Img1 and Img2: {round(cohensd,2)}\",fontname='Times New Roman')\n",
    "\n",
    "    plt.legend()\n",
    "    plt.show()"
   ]
  },
  {
   "cell_type": "markdown",
   "id": "6e83ec6b",
   "metadata": {},
   "source": [
    "# Set Study/File info"
   ]
  },
  {
   "cell_type": "code",
   "execution_count": null,
   "id": "227bab99-667d-422b-b70d-1f96705f9eec",
   "metadata": {},
   "outputs": [],
   "source": [
    "sample='abcd' # sample, AHRB, MLS or abcd\n",
    "calc_type='run' # session or run \n",
    "ses='baselineYear1Arm1' # abcd opt: baselineYear1Arm1/2YearFollowUpYArm1, MLS/AHRB opts: 1/2"
   ]
  },
  {
   "cell_type": "code",
   "execution_count": null,
   "id": "62bce00c-7ab6-42ff-94a7-029e1b28a9d8",
   "metadata": {},
   "outputs": [],
   "source": [
    "# Set paths\n",
    "if sample == 'abcd':\n",
    "    task='MID'\n",
    "    data_path=f'/scratch.global/mdemiden/analyses_reliability'\n",
    "    out_dir= data_path\n",
    "    icc_est=os.path.join(out_dir, \"icc_mods\", calc_type)\n",
    "    group_out=os.path.join(out_dir, \"group_lowmotion\")\n",
    "    file_out=os.path.join(out_dir,\"file_output\")\n",
    "    analysis_path='/home/feczk001/mdemiden/analyses/Multiverse_Reliability/Stage2_Code/cluster_jobs'\n",
    "    subj_list=os.path.join(analysis_path, \"subj_ids\", \"mfd_incl.tsv\")\n",
    "    seed_list=os.path.join(analysis_path, \"subj_ids\", \"rand_seeds.tsv\")\n",
    "    icc_resamp=os.path.join(out_dir, \"subsample\", \"icc_subsampl\",f'ses-{ses}')\n",
    "    icc_resample_file=os.path.join(file_out,f'sample-{sample}_ses-baselineYear1Arm1_type-bootsrap_stats-icc.tsv')\n",
    "    # load sub and supra masks\n",
    "    mask_supra = os.path.join(analysis_path, \"..\", \"brain_mask\", \"MNI152_wilson-supra.nii.gz\")\n",
    "    mask_sub = os.path.join(analysis_path, \"..\", \"brain_mask\", \"MNI152_wilson-sub.nii.gz\")\n",
    "    left_nacc = os.path.join(analysis_path, \"..\", \"brain_mask\", \"Left_NAcc.nii.gz\")\n",
    "    right_nacc = os.path.join(analysis_path, \"..\", \"brain_mask\", \"Right_NAcc.nii.gz\")\n",
    "elif sample in ['AHRB','MLS']:\n",
    "    data_path=os.path.join('/oak/stanford/groups/russpold/data',sample)\n",
    "    out_dir=os.path.join(data_path,\"derivatives\",\"analyses\",\"proj_reliability\")\n",
    "    icc_est=os.path.join(out_dir,\"icc_mods\",calc_type)\n",
    "    group_out=os.path.join(out_dir,\"group\")\n",
    "    analysis_path=os.path.join(data_path,\"code\",\"proj_reliability\",\"Multiverse_Reliability\",\"Stage2_Code\",\"cluster_jobs\")\n",
    "    file_out=os.path.join(out_dir,\"file_output\")\n",
    "    # load sub and supra masks\n",
    "    mask_supra = os.path.join(analysis_path, \"..\", \"brain_mask\", \"MNI152_wilson-supra.nii.gz\")\n",
    "    mask_sub = os.path.join(analysis_path, \"..\", \"brain_mask\", \"MNI152_wilson-sub.nii.gz\")\n",
    "    left_nacc = os.path.join(analysis_path, \"..\", \"brain_mask\", \"Left_NAcc.nii.gz\")\n",
    "    right_nacc = os.path.join(analysis_path, \"..\", \"brain_mask\", \"Right_NAcc.nii.gz\")\n",
    "    if sample == 'MLS':\n",
    "        task='reward'\n",
    "    else:\n",
    "        task='mid'\n",
    "else:\n",
    "    print('Incorrect sample provided. Options: abcd, AHRB, MLS')\n",
    "    "
   ]
  },
  {
   "cell_type": "code",
   "execution_count": null,
   "id": "0d571d49-0240-4043-a70b-445bf6792686",
   "metadata": {},
   "outputs": [],
   "source": [
    "# load ICC images\n",
    "# icc \n",
    "icc_imgs = sorted(glob(os.path.join(icc_est,\"*stat-est.nii.gz\")))\n",
    "# msbs \n",
    "bs_imgs = sorted(glob(os.path.join(icc_est,\"*stat-msbtwn.nii.gz\")))\n",
    "# msws\n",
    "ws_imgs = sorted(glob(os.path.join(icc_est,\"*stat-mswthn.nii.gz\")))\n",
    "\n",
    "print(\"Acquired lists:\",\n",
    "      len(icc_imgs),len(bs_imgs),len(ws_imgs))"
   ]
  },
  {
   "cell_type": "code",
   "execution_count": null,
   "id": "05f11007-6578-4fe8-b1a3-1e4bb9a740c2",
   "metadata": {},
   "outputs": [],
   "source": [
    "# icc\n",
    "out_icc_supra = os.path.join(file_out,f'sample-{sample}_type-{calc_type}_stats-est_mask-wilson-supra.tsv')\n",
    "out_icc_sub = os.path.join(file_out,f'sample-{sample}_type-{calc_type}_stats-est_mask-wilson-sub.tsv')\n",
    "out_icc_nacc = os.path.join(file_out,f'sample-{sample}_type-{calc_type}_stats-est_mask-nacc.tsv')\n",
    "# msbs\n",
    "out_bs_supra = os.path.join(file_out,f'sample-{sample}_type-{calc_type}_stats-bs_mask-wilson-supra.tsv')\n",
    "out_bs_sub = os.path.join(file_out,f'sample-{sample}_type-{calc_type}_stats-bs_mask-wilson-sub.tsv')\n",
    "out_bs_nacc = os.path.join(file_out,f'sample-{sample}_type-{calc_type}_stats-bs_mask-nacc.tsv')\n",
    "\n",
    "# msw\n",
    "out_ws_supra = os.path.join(file_out,f'sample-{sample}_type-{calc_type}_stats-ws_mask-wilson-supra.tsv')\n",
    "out_ws_sub = os.path.join(file_out,f'sample-{sample}_type-{calc_type}_stats-ws_mask-wilson-sub.tsv')\n",
    "out_ws_nacc = os.path.join(file_out,f'sample-{sample}_type-{calc_type}_stats-ws_mask-nacc.tsv')\n",
    "\n",
    "# similarity\n",
    "out_similarity= os.path.join(file_out,f'sample-{sample}_type-{calc_type}_stats-similarity.tsv')"
   ]
  },
  {
   "cell_type": "markdown",
   "id": "63fd1d01",
   "metadata": {},
   "source": [
    "## Calc concatenated df for model efficiences (motion, parameteization)"
   ]
  },
  {
   "cell_type": "code",
   "execution_count": null,
   "id": "e466e6ad",
   "metadata": {},
   "outputs": [],
   "source": [
    "# Model permutations\n",
    "if sample in ['abcd', 'AHRB']:\n",
    "    voxel = 2.4\n",
    "    opts = np.array([1.5,  2, 2.5, 3, 3.5])\n",
    "    fwhm_opt = list(np.round(voxel * opts, 1))\n",
    "elif sample in 'MLS':\n",
    "    voxel = 4\n",
    "    inh_smooth_weight = .50\n",
    "    opts = np.array([1.5, 2, 2.5, 3, 3.5])*inh_smooth_weight\n",
    "    fwhm_opt = list(np.round(voxel * opts, 1))\n",
    "\n",
    "# only including 4; opt 5 is opt3 + subj mFD < .9 & opt6 is opt4 + subj mFD < .9. \n",
    "motion_opt = [\"opt1\", \"opt2\", \"opt3\", \"opt4\"]\n",
    "modtype_opt = [\"CueMod\", \"AntMod\", \"FixMod\"]\n",
    "\n",
    "permutation_list = list(product(fwhm_opt, motion_opt, modtype_opt))"
   ]
  },
  {
   "cell_type": "code",
   "execution_count": null,
   "id": "770441d4",
   "metadata": {},
   "outputs": [],
   "source": [
    "if sample == 'abcd':\n",
    "    ses=\"baselineYear1Arm1\"\n",
    "    first_path = os.path.join(out_dir,\"firstlvl\",f'ses-{ses}')\n",
    "    with open(subj_list, 'r') as file:\n",
    "        directories = [line.strip() for line in file.readlines()]\n",
    "    print(f'{sample} subjects: {len(directories)}')\n",
    "else:\n",
    "    first_path = os.path.join(out_dir,\"firstlvl\",f'ses-1')\n",
    "    directories = [d for d in os.listdir(first_path) if os.path.isdir(os.path.join(first_path, d))]\n",
    "    print(f'{sample} subjects: {len(directories)}')"
   ]
  },
  {
   "cell_type": "code",
   "execution_count": null,
   "id": "0b1d6559",
   "metadata": {},
   "outputs": [],
   "source": [
    "run = ['1','2']\n",
    "df_eff = []\n",
    "n = 0\n",
    "if sample == 'abcd':\n",
    "    for subject in directories:\n",
    "        # check and skip subjs w/o acompcor: \n",
    "        acomp_patt = os.path.join(first_path},subject,f'{subject}_ses-{ses}_task-{task}_*mot-opt3*beta.nii.gz')\n",
    "        n_acompcor = glob(acomp_patt)\n",
    "        if len(n_acompcor) == 0:\n",
    "            n=n+1\n",
    "            print(f'{n}. {subject} bad acompcor, skipping')\n",
    "        else:\n",
    "            df_r1 = pd.read_csv(os.path.join(first_path,subject,f'{subject}_ses-{ses}_task-{task}_run-0{run[0]}_efficiency.tsv'), sep=',')\n",
    "            df_r2 = pd.read_csv(os.path.join(first_path,subject,f'{subject}_ses-{ses}_task-{task}_run-0{run[1]}_efficiency.tsv'), sep=',')\n",
    "            for i, column_name in enumerate(['fwhm', 'motion', 'model']):\n",
    "                df_r1[column_name] = [item[i] for item in permutation_list]\n",
    "                df_r2[column_name] = [item[i] for item in permutation_list]\n",
    "                \n",
    "            df_r1.drop_duplicates(subset=['model', 'motion'], inplace=True)\n",
    "            df_r2.drop_duplicates(subset=['model', 'motion'], inplace=True)\n",
    "            df_concatenated = pd.concat([df_r1, df_r2])\n",
    "            df_average = df_concatenated.groupby(['model', 'motion']).mean().reset_index()\n",
    "            df_average = df_average.drop(['run', 'fwhm'], axis=1)\n",
    "            df_average['subject'] = subject\n",
    "            \n",
    "            df_eff.append(df_average)\n",
    "        \n",
    "    df_eff = pd.concat(df_eff, ignore_index=True)\n",
    "else:\n",
    "    for subject in directories:\n",
    "        df_r1 = pd.read_csv(os.path.join(first_path,subject,f'{subject}_ses-1_task-{task}_run-0{run[0]}_efficiency.tsv'), sep=',')\n",
    "        df_r2 = pd.read_csv(os.path.join(first_path,subject,f'{subject}_ses-1_task-{task}_run-0{run[1]}_efficiency.tsv'), sep=',')\n",
    "        for i, column_name in enumerate(['fwhm', 'motion', 'model']):\n",
    "            df_r1[column_name] = [item[i] for item in permutation_list]\n",
    "            df_r2[column_name] = [item[i] for item in permutation_list]\n",
    "            \n",
    "        df_r1.drop_duplicates(subset=['model', 'motion'], inplace=True)\n",
    "        df_r2.drop_duplicates(subset=['model', 'motion'], inplace=True)\n",
    "        df_concatenated = pd.concat([df_r1, df_r2])\n",
    "        df_average = df_concatenated.groupby(['model', 'motion']).mean().reset_index()\n",
    "        df_average = df_average.drop(['run', 'fwhm'], axis=1)\n",
    "        df_average['subject'] = subject\n",
    "    \n",
    "    df_eff.append(df_average)\n",
    "    \n",
    "    df_eff = pd.concat(df_eff, ignore_index=True)"
   ]
  },
  {
   "cell_type": "code",
   "execution_count": null,
   "id": "e003eba6",
   "metadata": {},
   "outputs": [],
   "source": [
    "columns_to_melt = [\"Lgain-Neut\", \"Sgain-Neut\", \"Lgain-Base\", \"Sgain-Base\"]\n",
    "\n",
    "# convert wide to long format\n",
    "df_eff_lg = pd.melt(df_eff, id_vars=['subject', 'model', 'motion'], \n",
    "                      value_vars=columns_to_melt, var_name='con', value_name='eff_est')\n",
    "\n",
    "# efficiency \n",
    "if not os.path.exists(file_out):\n",
    "    os.makedirs(file_out)\n",
    "    \n",
    "out_efficiency= os.path.join(file_out,f'sample-{sample}_ses-{ses}_stats-efficiency.tsv')\n",
    "df_eff_lg.to_csv(out_efficiency, sep='\\t', index=False)"
   ]
  },
  {
   "cell_type": "markdown",
   "id": "8d453814-fc2e-4a87-b0ea-6434735036bb",
   "metadata": {},
   "source": [
    "# Means and Stand Dev of Estimates"
   ]
  },
  {
   "cell_type": "markdown",
   "id": "831ff481-eeb6-477e-8eb9-ad8f4f5be9b0",
   "metadata": {},
   "source": [
    "For Aim 1 (ICC estimate) and Aim 2 (Mean Square Between Subject and Within Subject Variance), stated would include:\n",
    "\n",
    "\"First, voxel-wise average and standard deviation from the resulting ICCs for the 360 model permutations are reported in two 3D volumes.\"\n",
    "\n",
    "Selected coordinated (L) Ventral Striatum based on Neurosynth search term \"ventral striatum\" threshold > 20"
   ]
  },
  {
   "cell_type": "markdown",
   "id": "dab59674-60ce-46f9-b228-b504a00a376f",
   "metadata": {},
   "source": [
    "## ICC est"
   ]
  },
  {
   "cell_type": "code",
   "execution_count": null,
   "id": "45024faa-635e-446c-b31a-300de6624cef",
   "metadata": {},
   "outputs": [],
   "source": [
    "icc_mean, icc_sd = mean_sd_img(icc_imgs)\n",
    "#icc_mean_sub, icc_sd_sub = mean_sd_img(icc_sub_imgs)"
   ]
  },
  {
   "cell_type": "code",
   "execution_count": null,
   "id": "5bba426b-bf4f-4345-b917-c0313b8a93c1",
   "metadata": {
    "scrolled": true
   },
   "outputs": [],
   "source": [
    "icc_maps = [icc_mean, icc_sd]\n",
    "icc_names = ['icc_mean', 'icc_sd']\n",
    "\n",
    "plot_icc_maps(maps=icc_maps, names=icc_names, \n",
    "              coordinates=(-10, 8, -10),vmax=1)"
   ]
  },
  {
   "cell_type": "markdown",
   "id": "e28dbe11-df7f-40b3-9db9-459455b2d6e0",
   "metadata": {},
   "source": [
    "## MSBS est"
   ]
  },
  {
   "cell_type": "code",
   "execution_count": null,
   "id": "98cbb759-796a-4ae9-a981-200585ea9a51",
   "metadata": {},
   "outputs": [],
   "source": [
    "bs_mean, bs_sd = mean_sd_img(bs_imgs)"
   ]
  },
  {
   "cell_type": "code",
   "execution_count": null,
   "id": "2ac4be34",
   "metadata": {},
   "outputs": [],
   "source": [
    "bs_maps = [bs_mean, bs_sd]\n",
    "bs_names = ['bs_mean', 'bs_sd']\n",
    "\n",
    "plot_icc_maps(maps=bs_maps, names=bs_names, \n",
    "              coordinates=(-10, 8, -10),vmax=3)"
   ]
  },
  {
   "cell_type": "markdown",
   "id": "3254a7c1-823a-4eb7-961d-64857d1d2ff1",
   "metadata": {},
   "source": [
    "## MSWS est"
   ]
  },
  {
   "cell_type": "code",
   "execution_count": null,
   "id": "a43b9af9-36c0-4c06-b5df-752ca2f9604c",
   "metadata": {},
   "outputs": [],
   "source": [
    "ws_mean, ws_sd = mean_sd_img(ws_imgs)"
   ]
  },
  {
   "cell_type": "code",
   "execution_count": null,
   "id": "e02ff383-095c-41a1-b076-90d33a7cc5d0",
   "metadata": {},
   "outputs": [],
   "source": [
    "ws_maps = [ws_mean, ws_sd]\n",
    "ws_names = ['ws_mean', 'ws_sd']\n",
    "\n",
    "plot_icc_maps(maps=ws_maps, names=ws_names, \n",
    "              coordinates=(-10, 8, -10),vmax=3)"
   ]
  },
  {
   "cell_type": "markdown",
   "id": "1f09d412-e366-4fd2-a32d-4055f9ad7891",
   "metadata": {},
   "source": [
    "# Loading files, Extracting median ICC and providing distribution"
   ]
  },
  {
   "cell_type": "markdown",
   "id": "fae3c5a6-ad93-4eba-9eea-46ed6551b485",
   "metadata": {},
   "source": [
    "For Aim 1 and Aim 2 state would include:\n",
    "\"Second, the range and distribution of median ICCs across each study (three) and analytic decision category (four) are plotted across suprathreshold task-positive and subthreshold ICCs using Rainclouds (Allen et al., 2019) and the median and standard deviation is reported in a table.\"\n",
    "\n",
    "While included here to rank and contain some information, plots will be created in R using raincloud features that are more powerful"
   ]
  },
  {
   "cell_type": "code",
   "execution_count": null,
   "id": "ae744e2e-06d0-4f25-86b7-f41ed4b9bf06",
   "metadata": {},
   "outputs": [],
   "source": [
    "# icc datasets\n",
    "df_icc_supra = process_dataset(icc_imgs, mask_supra, out_icc_supra)\n",
    "df_icc_sub = process_dataset(icc_imgs, mask_sub, out_icc_sub)\n",
    "df_icc_nacc = process_dataset_roi(icc_imgs, left_mask=left_nacc, right_mask=right_nacc, out_file=out_icc_nacc)\n",
    "# msbs datasets\n",
    "df_bs_supra = process_dataset(bs_imgs, mask_supra, out_bs_supra)\n",
    "df_bs_sub = process_dataset(bs_imgs, mask_sub, out_bs_sub)\n",
    "df_bs_nacc = process_dataset_roi(bs_imgs, left_mask=left_nacc, right_mask=right_nacc, out_file=out_bs_nacc)\n",
    "\n",
    "# msws datasets\n",
    "df_ws_supra = process_dataset(ws_imgs, mask_supra, out_ws_supra)\n",
    "df_ws_sub = process_dataset(ws_imgs, mask_sub, out_ws_sub)\n",
    "df_ws_nacc = process_dataset_roi(ws_imgs, left_mask=left_nacc, right_mask=right_nacc, out_file=out_ws_nacc)"
   ]
  },
  {
   "cell_type": "markdown",
   "id": "0da06859-5bc0-499e-b5c4-bc0822fb203f",
   "metadata": {},
   "source": [
    "### sort ICC by median est + img of highest"
   ]
  },
  {
   "cell_type": "code",
   "execution_count": null,
   "id": "43b126ad-c422-4fbd-bb18-7e4d2ce00b3e",
   "metadata": {
    "scrolled": true
   },
   "outputs": [],
   "source": [
    "df_icc_supra.sort_values(by='median_est', ascending=False)"
   ]
  },
  {
   "cell_type": "code",
   "execution_count": null,
   "id": "d383763b-db1a-4ad6-bc1b-a045891714fe",
   "metadata": {},
   "outputs": [],
   "source": [
    "df_icc_sub.sort_values(by='median_est', ascending=False)"
   ]
  },
  {
   "cell_type": "code",
   "execution_count": null,
   "id": "769bacac",
   "metadata": {},
   "outputs": [],
   "source": [
    "icc_ind = 174\n",
    "plot_top_map(img=icc_imgs, img_index=icc_ind, coordinates=(-10, 8, -10), vmax=1)"
   ]
  },
  {
   "cell_type": "code",
   "execution_count": null,
   "id": "91c79b43-e31b-4f5b-8dfb-b187828997b3",
   "metadata": {},
   "outputs": [],
   "source": [
    "model_name = df_icc_supra.loc[icc_ind, ['con','motion', 'model', 'fwhm']].values\n",
    "xlab = f'ICC Type:\\n {\", \".join(model_name)}'\n",
    "\n",
    "plot_dist_imgs(imgs=icc_imgs, img_index=icc_ind,\n",
    "               mask_supra=mask_supra, mask_sub=mask_sub,\n",
    "               bins=100, ylim=(0,5),xlim=(-1,1),dec_round=3,\n",
    "               xlab=xlab)"
   ]
  },
  {
   "cell_type": "code",
   "execution_count": null,
   "id": "296c7a09-32ad-475f-ac2e-1ac7f21797fc",
   "metadata": {},
   "outputs": [],
   "source": [
    "icc_ind = 24\n",
    "plot_top_map(img=icc_imgs, img_index=icc_ind, coordinates=(-10, 8, -10), vmax=1)"
   ]
  },
  {
   "cell_type": "markdown",
   "id": "345a52fc-7ddb-4506-b1fe-07556124c097",
   "metadata": {},
   "source": [
    "#### select lowest/highest ICC from specr"
   ]
  },
  {
   "cell_type": "code",
   "execution_count": null,
   "id": "3c99c60d",
   "metadata": {},
   "outputs": [],
   "source": [
    "# match to top session test-retest model\n",
    "conditions = (\n",
    "    (df_icc_supra[\"mask\"] == \"MNI152_wilson-supra\") &\n",
    "    (df_icc_supra[\"con\"] == \"contrast-Sgain-Neut\") &\n",
    "    (df_icc_supra[\"motion\"] == \"mot-opt3\") &\n",
    "    (df_icc_supra[\"model\"] == \"mod-FixMod\") &\n",
    "    (df_icc_supra[\"fwhm\"] == \"fwhm-3.6\")\n",
    ")\n",
    "\n",
    "df_icc_supra[conditions].sort_values(by='median_est', ascending=False)"
   ]
  },
  {
   "cell_type": "code",
   "execution_count": null,
   "id": "6cf085cd",
   "metadata": {},
   "outputs": [],
   "source": [
    "icc_lowest = 100\n",
    "plot_top_map(img=icc_imgs, img_index=icc_lowest, coordinates=(-10, 8, -10), vmax=1)"
   ]
  },
  {
   "cell_type": "code",
   "execution_count": null,
   "id": "531a5e4c",
   "metadata": {},
   "outputs": [],
   "source": [
    "model_name = df_icc_supra.loc[icc_lowest, ['con', 'motion', 'model', 'fwhm']].values\n",
    "xlab = f'Alt ICC Type:\\n {\", \".join(model_name)}'\n",
    "\n",
    "plot_dist_imgs(imgs=icc_imgs, img_index=icc_lowest,\n",
    "               mask_supra=mask_supra, mask_sub=mask_sub,\n",
    "               bins=100, ylim=(0,5),xlim=(-1,1),dec_round=3,\n",
    "               xlab=xlab)"
   ]
  },
  {
   "cell_type": "code",
   "execution_count": null,
   "id": "f792dbda-4898-427e-b613-2c0bab2e2763",
   "metadata": {},
   "outputs": [],
   "source": [
    "# match to top session test-retest model\n",
    "conditions = (\n",
    "    (df_icc_supra[\"mask\"] == \"MNI152_wilson-supra\") &\n",
    "    (df_icc_supra[\"con\"] == \"contrast-Sgain-Base\") &\n",
    "    (df_icc_supra[\"motion\"] == \"mot-opt2\") &\n",
    "    (df_icc_supra[\"model\"] == \"mod-CueMod\") &\n",
    "    (df_icc_supra[\"fwhm\"] == \"fwhm-8.4\")\n",
    ")\n",
    "\n",
    "df_icc_supra[conditions].sort_values(by='median_est', ascending=False)"
   ]
  },
  {
   "cell_type": "code",
   "execution_count": null,
   "id": "e538e10b-9331-43b3-bf37-9342a02fe5b8",
   "metadata": {},
   "outputs": [],
   "source": [
    "icc_highest = 204\n",
    "plot_top_map(img=icc_imgs, img_index=icc_highest, coordinates=(-10, 8, -10), vmax=1)"
   ]
  },
  {
   "cell_type": "code",
   "execution_count": null,
   "id": "182886be-8c43-41c7-972d-d4af0e40742b",
   "metadata": {},
   "outputs": [],
   "source": [
    "model_name = df_icc_supra.loc[icc_highest, ['con', 'motion', 'model', 'fwhm']].values\n",
    "xlab = f'Alt ICC Type:\\n {\", \".join(model_name)}'\n",
    "\n",
    "plot_dist_imgs(imgs=icc_imgs, img_index=icc_highest,\n",
    "               mask_supra=mask_supra, mask_sub=mask_sub,\n",
    "               bins=100, ylim=(0,5),xlim=(-1,1),dec_round=3,\n",
    "               xlab=xlab)"
   ]
  },
  {
   "cell_type": "markdown",
   "id": "8e4fd094-9041-426e-9854-3065449453b4",
   "metadata": {},
   "source": [
    "### sort MSBS by median est + img of highest"
   ]
  },
  {
   "cell_type": "code",
   "execution_count": null,
   "id": "d479a4dc-2f61-4be4-ac3e-aac1242a4186",
   "metadata": {},
   "outputs": [],
   "source": [
    "df_bs_supra.sort_values(by='median_est', ascending=False)"
   ]
  },
  {
   "cell_type": "code",
   "execution_count": null,
   "id": "3eaa9aa2-92f7-4599-8a14-18e0853dbcf3",
   "metadata": {},
   "outputs": [],
   "source": [
    "df_bs_sub.sort_values(by='median_est', ascending=False)"
   ]
  },
  {
   "cell_type": "code",
   "execution_count": null,
   "id": "a9ba1bbe-b525-4227-ab62-9f8755cd0682",
   "metadata": {},
   "outputs": [],
   "source": [
    "bs_ind = 185\n",
    "plot_top_map(img=bs_imgs, img_index=bs_ind, coordinates=(-10, 8, -10), vmax=5)"
   ]
  },
  {
   "cell_type": "code",
   "execution_count": null,
   "id": "da24b240-af8a-41ac-8d8b-e08b7dc1e496",
   "metadata": {},
   "outputs": [],
   "source": [
    "model_name = df_bs_supra.loc[bs_ind, ['con', 'motion','model', 'fwhm']].values\n",
    "xlab = f'MSBS Model Type:\\n {\", \".join(model_name)}'\n",
    "\n",
    "plot_dist_imgs(imgs=bs_imgs, img_index=bs_ind,\n",
    "               mask_supra=mask_supra, mask_sub=mask_sub,\n",
    "               bins=500,ylim=(0,1),xlim=(-5,50),\n",
    "               xlab=xlab)"
   ]
  },
  {
   "cell_type": "markdown",
   "id": "d12580d4-39eb-458a-b523-f36dc541cfcb",
   "metadata": {},
   "source": [
    "### sort MSWS by median est + img of highest"
   ]
  },
  {
   "cell_type": "code",
   "execution_count": null,
   "id": "bc8f9fbe-623c-43f8-89cd-81c769d06ab8",
   "metadata": {},
   "outputs": [],
   "source": [
    "df_ws_supra.sort_values(by='median_est', ascending=False)"
   ]
  },
  {
   "cell_type": "code",
   "execution_count": null,
   "id": "ff61c497-57c5-4f16-a8f9-8495cb049394",
   "metadata": {},
   "outputs": [],
   "source": [
    "df_ws_sub.sort_values(by='median_est', ascending=False)"
   ]
  },
  {
   "cell_type": "code",
   "execution_count": null,
   "id": "e5ac32e6-97c6-47a8-9133-c62bc0406d06",
   "metadata": {},
   "outputs": [],
   "source": [
    "ws_ind = 185\n",
    "plot_top_map(img=ws_imgs, img_index=ws_ind, coordinates=(-10, 8, -10), vmax=5)"
   ]
  },
  {
   "cell_type": "code",
   "execution_count": null,
   "id": "9595cd5a-91f9-4912-9343-2e2a1d04a412",
   "metadata": {},
   "outputs": [],
   "source": [
    "model_name = df_ws_supra.loc[ws_ind, ['con', 'motion','model', 'fwhm']].values\n",
    "xlab = f'MSWS Type:\\n {\", \".join(model_name)}'\n",
    "\n",
    "plot_dist_imgs(imgs=ws_imgs, img_index=ws_ind,\n",
    "               mask_supra=mask_supra, mask_sub=mask_sub,\n",
    "               bins=500,ylim=(0,5),xlim=(-5,50),\n",
    "               xlab=xlab)"
   ]
  },
  {
   "cell_type": "markdown",
   "id": "44663b74-5b2e-48b5-83c8-b4800ebf1caa",
   "metadata": {},
   "source": [
    "# Group Maps for supplemental"
   ]
  },
  {
   "cell_type": "code",
   "execution_count": null,
   "id": "fcfbcfeb-229b-4955-b07c-7f2621c0ea46",
   "metadata": {},
   "outputs": [],
   "source": [
    "os.path.join(group_out,f'ses-{ses}','run'),\n",
    "glob(os.path.join(group_maps,f'subs-*_ses-{ses}_task-{task}_type-{run}_{cue}_stat-cohensd.nii.gz'))[0]"
   ]
  },
  {
   "cell_type": "code",
   "execution_count": null,
   "id": "42b30652-6243-44ab-bdd5-645d41a7a817",
   "metadata": {},
   "outputs": [],
   "source": [
    "cue='contrast-Lgain-Base_mask-mni152_mot-opt2_mod-CueMod_fwhm-8.4'\n",
    "fix='contrast-Lgain-Base_mask-mni152_mot-opt2_mod-FixMod_fwhm-8.4'\n",
    "ant='contrast-Lgain-Base_mask-mni152_mot-opt2_mod-AntMod_fwhm-8.4'\n",
    "run='run02'\n",
    "group_maps=os.path.join(group_out,f'ses-{ses}','run')\n",
    "cue_map=glob(os.path.join(group_maps,f'subs-*_ses-{ses}_task-{task}_type-{run}_{cue}_stat-cohensd.nii.gz'))[0]\n",
    "fix_map=glob(os.path.join(group_maps,f'subs-*_ses-{ses}_task-{task}_type-{run}_{fix}_stat-cohensd.nii.gz'))[0]\n",
    "ant_map=glob(os.path.join(group_maps,f'subs-*_ses-{ses}_task-{task}_type-{run}_{ant}_stat-cohensd.nii.gz'))[0]\n",
    "grp_maps = [cue_map,fix_map,ant_map]\n",
    "grp_labs = [\"model_cue-LgBase\",\"model_fix-LgBase\",\"model_ant-LgBase\"]\n",
    "plot_icc_maps(maps=grp_maps, names=grp_labs, \n",
    "              coordinates=(-10, 8, -10),vmax=1)"
   ]
  },
  {
   "cell_type": "code",
   "execution_count": null,
   "id": "0db4fc09-7b55-4a20-98ac-11874f089268",
   "metadata": {},
   "outputs": [],
   "source": [
    "cue='contrast-Lgain-Neut_mask-mni152_mot-opt2_mod-CueMod_fwhm-8.4'\n",
    "fix='contrast-Lgain-Neut_mask-mni152_mot-opt2_mod-FixMod_fwhm-8.4'\n",
    "ant='contrast-Lgain-Neut_mask-mni152_mot-opt2_mod-AntMod_fwhm-8.4'\n",
    "run='run02'\n",
    "group_maps=os.path.join(group_out,f'ses-{ses}','run')\n",
    "cue_map=glob(os.path.join(group_maps,f'subs-*_ses-{ses}_task-{task}_type-{run}_{cue}_stat-cohensd.nii.gz'))[0]\n",
    "fix_map=glob(os.path.join(group_maps,f'subs-*_ses-{ses}_task-{task}_type-{run}_{fix}_stat-cohensd.nii.gz'))[0]\n",
    "ant_map=glob(os.path.join(group_maps,f'subs-*_ses-{ses}_task-{task}_type-{run}_{ant}_stat-cohensd.nii.gz'))[0]\n",
    "grp_maps = [cue_map,fix_map,ant_map]\n",
    "grp_labs = [\"model_cue-LgNeut\",\"model_fix-LgNeut\",\"model_ant-LgNeut\"]\n",
    "plot_icc_maps(maps=grp_maps, names=grp_labs, \n",
    "              coordinates=(-10, 8, -10),vmax=1)"
   ]
  },
  {
   "cell_type": "markdown",
   "id": "fea49e6e-246e-44a4-88bd-a569a091bb64",
   "metadata": {},
   "source": [
    "# Residual Variance ~ ICC / MSWS / Cohens D"
   ]
  },
  {
   "cell_type": "code",
   "execution_count": null,
   "id": "2e611786",
   "metadata": {},
   "outputs": [],
   "source": [
    "first_path = f'{out_dir}/firstlvl'\n",
    "ses1_out = f'{group_out}/abcd_run'\n",
    "ses2_out = f'{group_out}/abcd_run'\n",
    "ses_out = f'{group_out}/ses_residvar'\n",
    "con_opts = ['Lgain-Neut','Lgain-Base','Sgain-Neut','Sgain-Base']\n",
    "model_opts = ['CueMod','AntMod','FixMod']\n",
    "task = 'mid'\n",
    "fwhm = 'fwhm-6.0'\n",
    "n = \n",
    "\n",
    "if not os.path.exists(ses_out):\n",
    "    os.makedirs(ses_out)"
   ]
  },
  {
   "cell_type": "code",
   "execution_count": null,
   "id": "e36d57b6",
   "metadata": {},
   "outputs": [],
   "source": [
    "# dont re-run if already ran\n",
    "for con in con_opts:\n",
    "    for mod in model_opts:    \n",
    "        resid_ses1_imgs = glob(f'{first_path}/ses-1/**/*_ses-1_task-{task}_run-0*_contrast-{con}_mask-mni152_mot-opt1_mod-{mod}_{fwhm}_stat-residvar.nii.gz')    \n",
    "        resid_ses2_imgs = glob(f'{first_path}/ses-2/**/*_ses-2_task-{task}_run-0*_contrast-{con}_mask-mni152_mot-opt1_mod-{mod}_{fwhm}_stat-residvar.nii.gz')      \n",
    "\n",
    "        ses1_mean, ses1_sd = mean_sd_img(resid_ses1_imgs)\n",
    "        ses2_mean, ses2_sd = mean_sd_img(resid_ses1_imgs)\n",
    "        ses_mean, ses_sd = mean_sd_img([ses1_mean,ses2_mean])\n",
    "        \n",
    "        ses1_name = f'{ses1_out}/subs-{n}_ses-1_task-{task}_type-session_contrast-{con}_mask-mni152_mot-opt1_mod-{mod}_{fwhm}_stat-residvar.nii.gz'\n",
    "        ses2_name = f'{ses2_out}/subs-{n}_ses-2_task-{task}_type-session_contrast-{con}_mask-mni152_mot-opt1_mod-{mod}_{fwhm}_stat-residvar.nii.gz'\n",
    "        ses_name = f'{ses_out}/subs-{n}_task-{task}_contrast-{con}_mask-mni152_mot-opt1_mod-{mod}_{fwhm}_stat-residvar.nii.gz'\n",
    "\n",
    "        nib.save(ses1_mean, ses1_name)\n",
    "        nib.save(ses2_mean, ses2_name)\n",
    "        nib.save(ses_mean, ses_name)\n"
   ]
  },
  {
   "cell_type": "code",
   "execution_count": null,
   "id": "4aa940f9",
   "metadata": {},
   "outputs": [],
   "source": [
    "con = 'Lgain-Neut'\n",
    "ant_mod = f'{ses_out}/subs-{n}_task-{task}_contrast-{con}_mask-mni152_mot-opt1_mod-AntMod_{fwhm}_stat-residvar.nii.gz'\n",
    "fix_mod = f'{ses_out}/subs-{n}_task-{task}_contrast-{con}_mask-mni152_mot-opt1_mod-FixMod_{fwhm}_stat-residvar.nii.gz'\n",
    "cue_mod = f'{ses_out}/subs-{n}_task-{task}_contrast-{con}_mask-mni152_mot-opt1_mod-CueMod_{fwhm}_stat-residvar.nii.gz'\n"
   ]
  },
  {
   "cell_type": "code",
   "execution_count": null,
   "id": "3e29d5c4",
   "metadata": {},
   "outputs": [],
   "source": [
    "bins = 50\n",
    "\n",
    "ant_supra = masking.apply_mask(ant_mod, mask_supra)\n",
    "fix_supra = masking.apply_mask(fix_mod, mask_supra)\n",
    "cue_supra = masking.apply_mask(cue_mod, mask_supra)\n",
    "mod_maps = [ant_supra, fix_supra, cue_supra]\n",
    "mod_names = [\"AntMod\",\"FixMod\",\"CueMod\"]\n",
    "colors = ['white','yellow','blue']\n",
    "\n",
    "fig, axes = plt.subplots(3, 1, figsize=(15, 12))\n",
    "\n",
    "for i, map_mod in enumerate(mod_maps):\n",
    "    label = mod_names[i]\n",
    "    color = colors[i]\n",
    "    axes[i].hist(np.round(map_mod, decimals=1), bins=bins, edgecolor='black', color=color,\n",
    "                 alpha=1, label=label, density=True)\n",
    "    axes[i].legend() \n",
    "    axes[i].set_ylim(0,5)\n",
    "    axes[i].set_xlim(0,4)\n",
    "    axes[i].set_title(f\"{con}\")\n",
    "    axes[i].set_ylabel('Density')\n",
    "plt.tight_layout()\n",
    "plt.show()\n"
   ]
  },
  {
   "cell_type": "code",
   "execution_count": null,
   "id": "211a6cf1-d87b-404f-b70c-b8890c24d775",
   "metadata": {},
   "outputs": [],
   "source": [
    "print(out_dir, group_out)"
   ]
  },
  {
   "cell_type": "code",
   "execution_count": null,
   "id": "18de4311",
   "metadata": {
    "scrolled": true
   },
   "outputs": [],
   "source": [
    "mod_names = [\"AntMod\",\"FixMod\",\"CueMod\"]\n",
    "con_names = ['Lgain-Neut','Lgain-Base','Sgain-Neut','Sgain-Base']\n",
    "est_names = ['est', 'msbtwn', 'mswthn']\n",
    "ses = 'baselineYear1Arm1'\n",
    "first_path = f'{out_dir}/firstlvl'\n",
    "ses1_out = f'{group_out}/abcd_session/baselineYear1Arm1'\n",
    "ses2_out = f'{group_out}/abcd_session/2YearFollowUpArm1'\n",
    "\n",
    "\n",
    "rho_list = []\n",
    "for est in est_names:\n",
    "    for mod in mod_names:\n",
    "        for con in con_names:\n",
    "            est_maps=glob(f'{out_dir}/icc_perm/run/*mask-wilson-supra_*contrast-{con}_mask-mni152_mot-opt4_mod-AntMod_{fwhm}_*stat-{est}.nii.gz')\n",
    "            mod_img = f'{ses_out}/*_contrast-{con}_mask-mni152_mot-opt4_mod-{mod}_{fwhm}_stat-residvar.nii.gz'\n",
    "            grp_img = f'{ses1_out}/*_task-{task}_type-session_contrast-{con}_mask-mni152_mot-opt4_mod-{mod}_{fwhm}_stat-cohensd.nii.gz'\n",
    "            rho_icc = similarity.image_similarity(imgfile1=est_maps[0], imgfile2=mod_img, mask=mask_supra, similarity_type = 'spearman')\n",
    "            rho_icccohens = similarity.image_similarity(imgfile1=est_maps[0], imgfile2=grp_img, mask=mask_supra, similarity_type = 'spearman')\n",
    "            rho_residcohens = similarity.image_similarity(imgfile1=mod_img, imgfile2=grp_img, mask=mask_supra, similarity_type = 'spearman')\n",
    "            rho_list.append({\n",
    "                'Model': mod,\n",
    "                'Contrast': con,\n",
    "                'estimate': est,\n",
    "                'icc_rho': rho_icc,\n",
    "                'cohensicc_rho': rho_icccohens,\n",
    "                'coehnsresid_rho': rho_residcohens\n",
    "                \n",
    "            })\n"
   ]
  },
  {
   "cell_type": "code",
   "execution_count": null,
   "id": "ed19ecd8",
   "metadata": {},
   "outputs": [],
   "source": [
    "contrast = \"Lgain-Base\"\n",
    "vmin = -1\n",
    "vmax = 1 \n",
    "\n",
    "rho_df = pd.DataFrame(rho_list)\n",
    "heatmap_rho = rho_df[rho_df[\"Contrast\"] == contrast].pivot_table(index='estimate', \n",
    "                                                                     columns=['Model'], values='icc_rho')\n",
    "plt.figure(figsize=(12, 8))\n",
    "sns.heatmap(heatmap_rho, annot=True, cmap='vlag', linewidths=.5, fmt=\".2f\", vmin=vmin, vmax=vmax)\n",
    "plt.title(f'{sample}: session ICC {contrast} estimates ~ avg {contrast} residual var')\n",
    "plt.show()"
   ]
  },
  {
   "cell_type": "code",
   "execution_count": null,
   "id": "4e6a193f",
   "metadata": {},
   "outputs": [],
   "source": [
    "rho_df = pd.DataFrame(rho_list)\n",
    "heatmap_rho = rho_df[rho_df[\"Contrast\"] == contrast].pivot_table(index='estimate', \n",
    "                                                                     columns=['Model'], values='cohensicc_rho')\n",
    "plt.figure(figsize=(12, 8))\n",
    "sns.heatmap(heatmap_rho, annot=True, cmap='vlag', linewidths=.5, fmt=\".2f\", vmin=vmin, vmax=vmax)\n",
    "plt.title(f'{sample}: session {contrast} cohens d ~ session {contrast} ICC estimates')\n",
    "plt.show()"
   ]
  },
  {
   "cell_type": "code",
   "execution_count": null,
   "id": "e7207cd8",
   "metadata": {},
   "outputs": [],
   "source": [
    "rho_df = pd.DataFrame(rho_list)\n",
    "heatmap_rho = rho_df[rho_df[\"Contrast\"] == contrast].pivot_table(index='Contrast', \n",
    "                                                                 columns=['Model'], values='coehnsresid_rho')\n",
    "plt.figure(figsize=(10, 2))\n",
    "sns.heatmap(heatmap_rho, annot=True, cmap='vlag', linewidths=.5, fmt=\".2f\", vmin=vmin, vmax=vmax)\n",
    "plt.title(f'{sample}: session {contrast} cohens d ~ session {contrast} residual var')\n",
    "plt.show()"
   ]
  },
  {
   "cell_type": "code",
   "execution_count": null,
   "id": "c08a4d34",
   "metadata": {},
   "outputs": [],
   "source": [
    "rho_list = []\n",
    "for est in est_names:\n",
    "    for mod in mod_names:\n",
    "        for con in con_names:\n",
    "            est_maps=glob(f'{out_dir}/icc_mods/run/wilson-supra/*contrast-{con}_mask-mni152_mot-opt1_mod-AntMod_{fwhm}_*stat-{est}.nii.gz')\n",
    "            mod_img = f'{ses1_out}/subs-{n}_{ses}_task-{task}_type-session_contrast-{con}_mask-mni152_mot-opt1_mod-{mod}_{fwhm}_stat-residvar.nii.gz'\n",
    "            rho_maps = similarity.image_similarity(imgfile1=est_maps[0], imgfile2=mod_img, mask=mask_supra, similarity_type = 'spearman')\n",
    "            rho_list.append({\n",
    "            'Model': mod,\n",
    "            'Contrast': con,\n",
    "            'estimate': est,\n",
    "            'rho': rho_maps\n",
    "        })"
   ]
  },
  {
   "cell_type": "code",
   "execution_count": null,
   "id": "84558b9c",
   "metadata": {},
   "outputs": [],
   "source": [
    "rho_df = pd.DataFrame(rho_list)\n",
    "heatmap_rho = rho_df.pivot_table(index='Contrast', columns=['estimate', 'Model'], values='rho')\n",
    "plt.figure(figsize=(12, 8))\n",
    "sns.heatmap(heatmap_rho, annot=True, cmap='magma', linewidths=.5, fmt=\".2f\")\n",
    "plt.title(f'{sample}: Heatmap for run est ~ avg residvar')\n",
    "plt.show()"
   ]
  },
  {
   "cell_type": "markdown",
   "id": "4daa4ffc-02b8-4c8a-ab96-97d1162a4f56",
   "metadata": {},
   "source": [
    "# Group-wise similarity"
   ]
  },
  {
   "cell_type": "markdown",
   "id": "e25d3b21-7310-4234-ad2b-ac98f70fcdd9",
   "metadata": {},
   "source": [
    "## Jaccards & spearman similarity"
   ]
  },
  {
   "cell_type": "markdown",
   "id": "e0c03b16-4a82-4211-ba0a-d7eea29c0fa5",
   "metadata": {},
   "source": [
    "As described in the registered report:\n",
    "\n",
    "*\"Jaccard similarity coefficient is sensitive to thresholding and sample size (Bennett & Miller, 2010), in Aim 1 an equal sample size (e.g., N ~ 60) is chosen for each study to compare how the similarity between sessions varies across studies. For all 360 pipelines, a group-level (average) activation map is estimated for each session. In the case of the Jaccard coefficient, the group maps are thresholded at p < .001. In the case of the Spearman coefficient, the group maps are masked using a suprathreshold task-positive map from NeuroVault. Then, the paths for the pipelines and sessions are called using the pairwise_similarity within the similarity.py script. The resulting coefficients report the similarity between analytic pipelines and sessions for each study. For each study, the coefficients are plotted to reflect the distribution and range of coefficients. Both Jaccard\u0019s and Spearman correlation are reported separately. Like Aim 1 & Aim 2, two HLMs are used to regress the Jaccard coefficients and Spearman correlation on the [four] analytic decisions nested within study. Multiple comparisons corrections are applied using the Tukey adjustment.\"*"
   ]
  },
  {
   "cell_type": "code",
   "execution_count": null,
   "id": "2494b469",
   "metadata": {},
   "outputs": [],
   "source": [
    "contrasts = [\n",
    "    'Lgain-Neut', 'Sgain-Neut',\n",
    "    'Lgain-Base', 'Sgain-Base'\n",
    "]\n",
    "\n",
    "# Model permutations\n",
    "if sample in ['abcd', 'AHRB']:\n",
    "    voxel = 2.4\n",
    "    opts = np.array([1.5,  2, 2.5, 3, 3.5])\n",
    "    fwhm_opt = list(np.round(voxel * opts, 1))\n",
    "elif sample in 'MLS':\n",
    "    voxel = 4\n",
    "    inh_smooth_weight = .50\n",
    "    opts = np.array([1.5, 2, 2.5, 3, 3.5])*inh_smooth_weight\n",
    "    fwhm_opt = list(np.round(voxel * opts, 1))\n",
    "\n",
    "# only including 4; opt 5 is opt3 + subj mFD < .9 & opt6 is opt4 + subj mFD < .9. \n",
    "motion_opt = [\"opt1\", \"opt2\", \"opt3\", \"opt4\"]\n",
    "modtype_opt = [\"CueMod\", \"AntMod\", \"FixMod\"]\n",
    "\n",
    "permutation_list = list(product(contrasts, fwhm_opt, motion_opt, modtype_opt))"
   ]
  },
  {
   "cell_type": "code",
   "execution_count": null,
   "id": "3ed812a9-b0f4-437b-b0a3-4c5da5ae8011",
   "metadata": {},
   "outputs": [],
   "source": [
    "threshold = .4 # mod since t -> d transform\n",
    "similar_list = []\n",
    "mask_lab = 'wilson-supra'\n",
    "n = 0\n",
    "for con, fwhm, motion, model in permutation_list:\n",
    "    n = n + 1\n",
    "    print(f'Running {n} out of {len(permutation_list)}')\n",
    "    # jaccard/ spearman similarity between session 1 and session 2\n",
    "    img1 = f'{group_out}/ses-{ses}/{calc_type}/*type-{calc_type}01_contrast-{con}_mask-mni152_mot-{motion}_mod-{model}_fwhm-{fwhm}_stat-cohensd.nii.gz'\n",
    "    img2 = f'{group_out}/ses-{ses}/{calc_type}/*type-{calc_type}02_contrast-{con}_mask-mni152_mot-{motion}_mod-{model}_fwhm-{fwhm}_stat-cohensd.nii.gz'\n",
    "    jaccard = similarity.image_similarity(imgfile1=img1, imgfile2=img2, thresh = threshold, similarity_type = 'jaccard')\n",
    "    spearman = similarity.image_similarity(imgfile1=img1, imgfile2=img2, mask=mask_supra, similarity_type = 'spearman')\n",
    "    \n",
    "    # spearman rho between session ICC + sess 1 & sess 2 cohens d\n",
    "    ses_icc = f'{icc_est}/{mask_lab}/*_contrast-{con}_mask-mni152_mot-{motion}_mod-{model}_fwhm-{fwhm}*stat-est.nii.gz'\n",
    "    run1 = f'{group_out}/ses-{ses}/{calc_type}/*type-{calc_type}01_contrast-{con}_mask-mni152_mot-{motion}_mod-{model}_fwhm-{fwhm}_stat-cohensd.nii.gz'\n",
    "    run2 = f'{group_out}/ses-{ses}/{calc_type}/*type-{calc_type}02_contrast-{con}_mask-mni152_mot-{motion}_mod-{model}_fwhm-{fwhm}_stat-cohensd.nii.gz'\n",
    "    run1_spear = similarity.image_similarity(imgfile1=ses_icc, imgfile2=run1, mask=mask_supra, similarity_type = 'spearman')\n",
    "    run2_spear = similarity.image_similarity(imgfile1=ses_icc, imgfile2=run2, mask=mask_supra, similarity_type = 'spearman')\n",
    "\n",
    "\n",
    "    similar_list.append({\n",
    "        'con': con,\n",
    "        'fwhm': fwhm,\n",
    "        'motion': motion,\n",
    "        'model': model,\n",
    "        'jaccard': jaccard,\n",
    "        'spearman': spearman,\n",
    "        'run1_icc_cohensd': run1_spear,\n",
    "        'run2_icc_cohensd': run2_spear,\n",
    "        \n",
    "    })\n",
    " "
   ]
  },
  {
   "cell_type": "code",
   "execution_count": null,
   "id": "11fe39e2-f4cd-4a1a-8a58-34262d2c1ef9",
   "metadata": {},
   "outputs": [],
   "source": [
    "similarity_df = pd.DataFrame(similar_list)\n",
    "similarity_df.to_csv(out_similarity, sep='\\t', index=False)"
   ]
  },
  {
   "cell_type": "markdown",
   "id": "95f8bc5b",
   "metadata": {},
   "source": [
    "## Posthc, Session Group Map ~ Session ICC"
   ]
  },
  {
   "cell_type": "code",
   "execution_count": null,
   "id": "1e739133",
   "metadata": {},
   "outputs": [],
   "source": [
    "spear_sim_df = pd.DataFrame(similarity_df[['run1_icc_cohensd','run2_icc_cohensd']])\n",
    "spear_sim_long = pd.melt(spear_sim_df, var_name=\"Session\", value_name=\"SpearmanEstimate\")\n",
    "\n",
    "# Boxplot Spearman rho between Session 1 (or 2) Group Cohen's D map ~ Session ICC est. masked suprathresh\n",
    "plt.figure(figsize=(8, 6))\n",
    "sns.boxplot(x=\"Session\", y=\"SpearmanEstimate\", data=spear_sim_long)\n",
    "plt.ylabel('Estimate')\n",
    "plt.title('Spearman rho: Session ICC ~ Cohens D for Run 1 and Run 2')\n",
    "\n",
    "# Show the plot\n",
    "plt.show()"
   ]
  },
  {
   "cell_type": "markdown",
   "id": "148ef644-d9e2-4984-8a50-40747152da87",
   "metadata": {},
   "source": [
    "# ICC, MSBS, MSWS random Sampling (ABCD Only)"
   ]
  },
  {
   "cell_type": "code",
   "execution_count": null,
   "id": "556bec2e-b089-4cb4-9f49-fdaf5fbb8c60",
   "metadata": {},
   "outputs": [],
   "source": [
    "seed_ns = pd.read_csv(seed_list, sep='\\t', header=None)\n",
    "seed_ns_list = seed_ns.iloc[:, 0].tolist()\n",
    "ses='baselineYear1Arm1'\n",
    "n_int = 50\n",
    "min_n = 25\n",
    "max_n = 525\n",
    "n_range = list(range(min_n, max_n+n_int, n_int))\n",
    "model='contrast-Lgain-Base_mask-mni152_mot-opt2_mod-CueMod_fwhm-8.4'"
   ]
  },
  {
   "cell_type": "code",
   "execution_count": null,
   "id": "1e5ffda1-8eeb-4eab-816a-8c3ffdbfb7a7",
   "metadata": {},
   "outputs": [],
   "source": [
    "if not file_exists(icc_resample_file):\n",
    "        print(f'file {icc_resample_file} doesnt exist, creating')\n",
    "        df_boot = extract_median_rand(inp_dir=icc_resamp,model_name=model, ses=ses, task='MID', \n",
    "                                      subpra_mask=mask_supra, sub_mask=mask_sub, \n",
    "                                      seed_list=seed_ns_list, n_range=n_range)\n",
    "        df_boot.to_csv(icc_resample_file, sep='\\t', index=False)\n",
    "else:\n",
    "        print(f'Loading existing {icc_resample_file}')\n",
    "        df_boot = pd.read_csv(icc_resample_file, sep='\\t')\n"
   ]
  },
  {
   "cell_type": "code",
   "execution_count": null,
   "id": "88d71849-33ee-4e3b-8f0d-5581a9ce193b",
   "metadata": {},
   "outputs": [],
   "source": [
    "n1 = 25\n",
    "sort_desc= df_boot[df_boot[\"subsample_n\"] == n1].sort_values(by='icc_supra', ascending=True)\n",
    "seed_lowest = sort_desc[\"seed\"].iloc[0]\n",
    "sort_ascend= df_boot[df_boot[\"subsample_n\"] == n1].sort_values(by='icc_supra', ascending=False)\n",
    "seed_highest = sort_ascend[\"seed\"].iloc[0]\n",
    "# plot\n",
    "img1_25 = f'{icc_resamp}/seed-{seed_lowest}_subs-{n1}_task-MID_type-run_{model}_stat-est.nii.gz'\n",
    "img2_25 = f'{icc_resamp}/seed-{seed_highest}_subs-{n1}_task-MID_type-run_{model}_stat-est.nii.gz'\n",
    "dist_cohensd(min_img=img1_25, max_img=img2_25, mask=mask_supra,  bins=200, ylim=(0, 5), xlim=(-1, 1), dec_round=4, xlab='')"
   ]
  },
  {
   "cell_type": "code",
   "execution_count": null,
   "id": "1132258a-231f-4d88-bda6-15389ce154f7",
   "metadata": {},
   "outputs": [],
   "source": [
    "n2 = 225\n",
    "sort_desc= df_boot[df_boot[\"subsample_n\"] == n2].sort_values(by='icc_supra', ascending=True)\n",
    "seed_lowest = sort_desc[\"seed\"].iloc[0]\n",
    "sort_ascend= df_boot[df_boot[\"subsample_n\"] == n2].sort_values(by='icc_supra', ascending=False)\n",
    "seed_highest = sort_ascend[\"seed\"].iloc[0]\n",
    "# plot\n",
    "img1_225 = f'{icc_resamp}/seed-{seed_lowest}_subs-{n2}_task-MID_type-run_{model}_stat-est.nii.gz'\n",
    "img2_225 = f'{icc_resamp}/seed-{seed_highest}_subs-{n2}_task-MID_type-run_{model}_stat-est.nii.gz'\n",
    "dist_cohensd(min_img=img1_225, max_img=img2_225, mask=mask_supra,  bins=200, ylim=(0, 5), xlim=(-1, 1), dec_round=4, xlab='')"
   ]
  },
  {
   "cell_type": "code",
   "execution_count": null,
   "id": "25171079-2058-454e-8a79-88d50a76d902",
   "metadata": {},
   "outputs": [],
   "source": [
    "n3 = 525\n",
    "sort_desc= df_boot[df_boot[\"subsample_n\"] == n3].sort_values(by='icc_supra', ascending=True)\n",
    "seed_lowest = sort_desc[\"seed\"].iloc[0]\n",
    "sort_ascend= df_boot[df_boot[\"subsample_n\"] == n3].sort_values(by='icc_supra', ascending=False)\n",
    "seed_highest = sort_ascend[\"seed\"].iloc[0]\n",
    "# plot\n",
    "img1_525 = f'{icc_resamp}/seed-{seed_lowest}_subs-{n3}_task-MID_type-run_{model}_stat-est.nii.gz'\n",
    "img2_525 = f'{icc_resamp}/seed-{seed_highest}_subs-{n3}_task-MID_type-run_{model}_stat-est.nii.gz'\n",
    "dist_cohensd(min_img=img1_525, max_img=img2_525, mask=mask_supra,  bins=200, ylim=(0, 5), xlim=(-1, 1), dec_round=4, xlab='')"
   ]
  },
  {
   "cell_type": "code",
   "execution_count": null,
   "id": "012dad8f-cab4-4ba0-91c2-eb5b4b21a061",
   "metadata": {},
   "outputs": [],
   "source": [
    "n_25_imgs = [img1_25,img2_25]\n",
    "plot_top_map(img=n_25_imgs, img_index=0, coordinates=(-10, 8, -10), vmax=1),plot_top_map(img=n_25_imgs, img_index=1, coordinates=(-10, 8, -10), vmax=1)"
   ]
  },
  {
   "cell_type": "code",
   "execution_count": null,
   "id": "c0323e3b-4343-4e96-96a1-e4208c3377fd",
   "metadata": {},
   "outputs": [],
   "source": [
    "n_225_imgs = [img1_225,img2_225]\n",
    "plot_top_map(img=n_225_imgs, img_index=0, coordinates=(-10, 8, -10), vmax=1),plot_top_map(img=n_225_imgs, img_index=1, coordinates=(-10, 8, -10), vmax=1)"
   ]
  },
  {
   "cell_type": "code",
   "execution_count": null,
   "id": "3d9dce51-2075-42bb-bc0c-6ed650a97f65",
   "metadata": {},
   "outputs": [],
   "source": [
    "n_525_imgs = [img1_525,img2_525]\n",
    "plot_top_map(img=n_525_imgs, img_index=0, coordinates=(-10, 8, -10), vmax=1),plot_top_map(img=n_525_imgs, img_index=1, coordinates=(-10, 8, -10), vmax=1)"
   ]
  }
 ],
 "metadata": {
  "kernelspec": {
   "display_name": "Python 3 (ipykernel)",
   "language": "python",
   "name": "python3"
  },
  "language_info": {
   "codemirror_mode": {
    "name": "ipython",
    "version": 3
   },
   "file_extension": ".py",
   "mimetype": "text/x-python",
   "name": "python",
   "nbconvert_exporter": "python",
   "pygments_lexer": "ipython3",
   "version": "3.9.7"
  }
 },
 "nbformat": 4,
 "nbformat_minor": 5
}
