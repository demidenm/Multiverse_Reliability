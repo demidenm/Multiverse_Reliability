{
 "cells": [
  {
   "cell_type": "code",
   "execution_count": 1,
   "id": "09fafc51",
   "metadata": {},
   "outputs": [],
   "source": [
    "# Uncomment and run if installation does not exist in environment\n",
    "#%pip install numpy\n",
    "#%pip install pandas\n",
    "#%pip install nibabel\n",
    "#%pip install seaborn\n",
    "#%pip install matplotlib\n",
    "#%pip install nilearn\n",
    "#%pip install pyrelimri"
   ]
  },
  {
   "cell_type": "code",
   "execution_count": 2,
   "id": "272a4557-ec23-42ab-a378-1f7d2e714e96",
   "metadata": {},
   "outputs": [
    {
     "name": "stderr",
     "output_type": "stream",
     "text": [
      "/home/users/demidenm/.local/lib/python3.9/site-packages/urllib3/__init__.py:34: NotOpenSSLWarning: urllib3 v2 only supports OpenSSL 1.1.1+, currently the 'ssl' module is compiled with 'LibreSSL 3.2.1'. See: https://github.com/urllib3/urllib3/issues/3020\n",
      "  warnings.warn(\n"
     ]
    }
   ],
   "source": [
    "import sys\n",
    "import os\n",
    "import argparse\n",
    "import warnings\n",
    "import numpy as np\n",
    "import pandas as pd\n",
    "import nibabel as nib\n",
    "import seaborn as sns\n",
    "import matplotlib.pyplot as plt\n",
    "from nilearn import image, masking, plotting\n",
    "from glob import glob\n",
    "from pyrelimri import similarity\n",
    "from itertools import product\n",
    "warnings.filterwarnings(\"ignore\")"
   ]
  },
  {
   "cell_type": "code",
   "execution_count": 3,
   "id": "7be1b28b",
   "metadata": {},
   "outputs": [],
   "source": [
    "def extract_median(img_list, mask_img):\n",
    "    data_list = []\n",
    "    for img in img_list:\n",
    "        base_name = os.path.basename(img)\n",
    "        mask, con, mni, motion, model, fwhm = base_name.split('_')[2:8]\n",
    "    \n",
    "        # get median value\n",
    "        nifti_img = image.load_img(img)\n",
    "        masked_data = masking.apply_mask(nifti_img, mask_img)\n",
    "        median_est = np.round(np.median(masked_data), 3)\n",
    "        \n",
    "        data_list.append({\n",
    "            'mask': mask,\n",
    "            'con': con,\n",
    "            'motion': motion,\n",
    "            'model': model,\n",
    "            'fwhm': fwhm,\n",
    "            'median_est': median_est\n",
    "        })\n",
    "    return pd.DataFrame(data_list)\n",
    "\n",
    "def file_exists(file_path):\n",
    "    return os.path.exists(file_path)\n",
    "\n",
    "# if file doesnt exist, extract media and create file, otherwise load file \n",
    "def process_dataset(imgs, mask, out_file):\n",
    "    if not file_exists(out_file):\n",
    "        print(f'file {out_file} doesnt exist, creating')\n",
    "        df = extract_median(imgs, mask)\n",
    "        df.to_csv(out_file, sep='\\t', index=False)\n",
    "    else:\n",
    "        print(f'Loading existing {out_file}')\n",
    "        df = pd.read_csv(out_file, sep='\\t')\n",
    "    return df\n",
    "\n",
    "def mean_sd_img(list_imgs):\n",
    "    # get data and stack it\n",
    "    img_list = [image.load_img(img_path) for img_path in list_imgs]\n",
    "    img_data = np.stack([img.get_fdata() for img in img_list], axis=-1)\n",
    "    # calculate the mean + sd image\n",
    "    mean_img_data = np.mean(img_data, axis=-1)\n",
    "    sd_img_data = np.std(img_data, axis=-1)\n",
    "    # convert back into space of icc imgs\n",
    "    icc_mean_img = image.new_img_like(img_list[0], mean_img_data)\n",
    "    icc_sd_img = image.new_img_like(img_list[0], sd_img_data)\n",
    "    # return mean + sd img\n",
    "    return icc_mean_img,icc_sd_img\n",
    "\n",
    "def plot_icc_maps(maps, names, coordinates, vmax):\n",
    "    num_maps = len(icc_maps)\n",
    "    num_rows = num_maps // 2 + num_maps % 2  # Calculate the number of rows based on the number of maps\n",
    "    fig, axes = plt.subplots(num_rows, 2, figsize=(15, 12))\n",
    "\n",
    "    for i, map_type in enumerate(icc_maps):\n",
    "        labels = icc_names[i].split('_')\n",
    "        est_lab = labels[1]\n",
    "        thresh_lab = labels[2]\n",
    "\n",
    "        # position\n",
    "        row = i // 2\n",
    "        col = i % 2\n",
    "\n",
    "        # Plot the current map in the corresponding subplot\n",
    "        plotting.plot_stat_map(map_type, display_mode='tiled', title=f'{thresh_lab} {est_lab}',\n",
    "                               cut_coords=coordinates, vmax=vmax, axes=axes[row, col])\n",
    "\n",
    "    plt.tight_layout()\n",
    "    plt.show()\n",
    "\n",
    "def plot_top_maps(imgs, img_index, coordinates, vmax):\n",
    "    fig, axes = plt.subplots(1, 2, figsize=(12, 8))\n",
    "\n",
    "    for i, img in enumerate(imgs):\n",
    "        plotting.plot_stat_map(img[img_index], display_mode='tiled',\n",
    "                               cut_coords=coordinates, vmax=vmax, axes=axes[i])\n",
    "    \n",
    "    plt.tight_layout()\n",
    "    plt.show()\n",
    "    \n",
    "def plot_dist_imgs(supra_imgs, sub_imgs, img_index, mask_supra, mask_sub, \n",
    "                   bins=500, ylim=(0, 1), xlim=(-5, 50), dec_round=1, xlab=''):\n",
    "    masked_supra_data = masking.apply_mask(supra_imgs[img_index], mask_supra)\n",
    "    masked_sub_data = masking.apply_mask(sub_imgs[img_index], mask_sub)\n",
    "\n",
    "    # median for plots\n",
    "    med_supra = np.median(masked_supra_data)\n",
    "    med_sub = np.median(masked_sub_data)\n",
    "\n",
    "    # Plot the distribution\n",
    "    plt.hist(np.round(masked_supra_data, decimals=dec_round), bins=bins, edgecolor='black', color='black',\n",
    "             alpha=1, label='supra-thresh', density=True)  # supra-threshold mask\n",
    "    plt.hist(np.round(masked_sub_data, decimals=dec_round), bins=bins, edgecolor='black', color='yellow',\n",
    "             alpha=0.6, label='sub-thresh', density=True)  # sub-threshold mask\n",
    "\n",
    "    plt.axvline(med_supra, color='red', linestyle='dashed', linewidth=1, label='Median supra-thresh')\n",
    "    plt.axvline(med_sub, color='blue', linestyle='dashed', linewidth=1, label='Median sub-thresh')\n",
    "    plt.ylim(ylim[0], ylim[1])\n",
    "    plt.xlim(xlim[0], xlim[1])\n",
    "\n",
    "    plt.xlabel(f'{xlab}')\n",
    "    plt.ylabel('Density')\n",
    "\n",
    "    plt.legend()\n",
    "    plt.show()"
   ]
  },
  {
   "cell_type": "markdown",
   "id": "6e83ec6b",
   "metadata": {},
   "source": [
    "# Set Study/File info"
   ]
  },
  {
   "cell_type": "code",
   "execution_count": 4,
   "id": "227bab99-667d-422b-b70d-1f96705f9eec",
   "metadata": {},
   "outputs": [],
   "source": [
    "sample='AHRB' # sample, AHRB, MLS or abcd\n",
    "calc_type='run' # session or run\n",
    "data_path=f'/oak/stanford/groups/russpold/data/{sample}'\n",
    "out_dir=f'{data_path}/derivatives/analyses/proj_reliability'\n",
    "icc_est=f'{out_dir}/icc_mods/{calc_type}'\n",
    "group_out=f'{out_dir}/group'"
   ]
  },
  {
   "cell_type": "code",
   "execution_count": 5,
   "id": "0d571d49-0240-4043-a70b-445bf6792686",
   "metadata": {},
   "outputs": [
    {
     "name": "stdout",
     "output_type": "stream",
     "text": [
      "Acquired lists: 240 240 240 240 240 240\n"
     ]
    }
   ],
   "source": [
    "# load ICC images\n",
    "# icc \n",
    "icc_supra_imgs = sorted(glob(f'{icc_est}/**/*wilson-supra_*stat-est.nii.gz'))\n",
    "icc_sub_imgs = sorted(glob(f'{icc_est}/**/*wilson-sub_*stat-est.nii.gz'))\n",
    "# msbs \n",
    "bs_supra_imgs = sorted(glob(f'{icc_est}/**/*wilson-supra_*stat-msbtwn.nii.gz'))\n",
    "bs_sub_imgs = sorted(glob(f'{icc_est}/**/*wilson-sub_*stat-msbtwn.nii.gz'))\n",
    "# msws\n",
    "ws_supra_imgs = sorted(glob(f'{icc_est}/**/*wilson-supra_*stat-mswthn.nii.gz'))\n",
    "ws_sub_imgs = sorted(glob(f'{icc_est}/**/*wilson-sub_*stat-mswthn.nii.gz'))\n",
    "\n",
    "print(\"Acquired lists:\",\n",
    "      len(icc_supra_imgs),len(icc_sub_imgs), \n",
    "      len(bs_supra_imgs),len(bs_sub_imgs),len(ws_supra_imgs),len(ws_sub_imgs))"
   ]
  },
  {
   "cell_type": "code",
   "execution_count": 15,
   "id": "449e519f-809f-4978-95c1-b2fb9684b805",
   "metadata": {},
   "outputs": [],
   "source": [
    "# load sub and supra masks\n",
    "mask_supra = f'{data_path}/code/proj_reliability/Multiverse_Reliability/Stage2_Code/brain_mask/MNI152_wilson-supra.nii.gz'\n",
    "mask_sub = f'{data_path}/code/proj_reliability/Multiverse_Reliability/Stage2_Code/brain_mask/MNI152_wilson-sub.nii.gz'"
   ]
  },
  {
   "cell_type": "code",
   "execution_count": 6,
   "id": "05f11007-6578-4fe8-b1a3-1e4bb9a740c2",
   "metadata": {},
   "outputs": [],
   "source": [
    "# icc\n",
    "out_icc_supra = f'{out_dir}/file_output/sample-{sample}_type-{calc_type}_stats-est_mask-wilson-supra.tsv'\n",
    "out_icc_sub = f'{out_dir}/file_output/sample-{sample}_type-{calc_type}_stats-est_mask-wilson-sub.tsv'\n",
    "# msbs\n",
    "out_bs_supra = f'{out_dir}/file_output/sample-{sample}_type-{calc_type}_stats-bs_mask-wilson-supra.tsv'\n",
    "out_bs_sub = f'{out_dir}/file_output/sample-{sample}_type-{calc_type}_stats-bs_mask-wilson-sub.tsv'\n",
    "# msws\n",
    "out_ws_supra = f'{out_dir}/file_output/sample-{sample}_type-{calc_type}_stats-ws_mask-wilson-supra.tsv'\n",
    "out_ws_sub = f'{out_dir}/file_output/sample-{sample}_type-{calc_type}_stats-ws_mask-wilson-sub.tsv'\n",
    "# similarity \n",
    "out_similarity= f'{out_dir}/file_output/sample-{sample}_type-{calc_type}_stats-similarity.tsv'"
   ]
  },
  {
   "cell_type": "markdown",
   "id": "63fd1d01",
   "metadata": {},
   "source": [
    "## Calc concatenated df for model efficiences (motion, parameteization)"
   ]
  },
  {
   "cell_type": "code",
   "execution_count": 7,
   "id": "e466e6ad",
   "metadata": {},
   "outputs": [],
   "source": [
    "# Model permutations\n",
    "if sample in ['abcd', 'AHRB']:\n",
    "    voxel = 2.4\n",
    "    opts = np.array([1.5,  2, 2.5, 3, 3.5])\n",
    "    fwhm_opt = list(np.round(voxel * opts, 1))\n",
    "elif sample in 'MLS':\n",
    "    voxel = 4\n",
    "    inh_smooth_weight = .50\n",
    "    opts = np.array([1.5, 2, 2.5, 3, 3.5])*inh_smooth_weight\n",
    "    fwhm_opt = list(np.round(voxel * opts, 1))\n",
    "\n",
    "# only including 4; opt 5 is opt3 + subj mFD < .9 & opt6 is opt4 + subj mFD < .9. \n",
    "motion_opt = [\"opt1\", \"opt2\", \"opt3\", \"opt4\"]\n",
    "modtype_opt = [\"CueMod\", \"AntMod\", \"FixMod\"]\n",
    "\n",
    "permutation_list = list(product(fwhm_opt, motion_opt, modtype_opt))"
   ]
  },
  {
   "cell_type": "code",
   "execution_count": null,
   "id": "770441d4",
   "metadata": {},
   "outputs": [],
   "source": [
    "first_path = f'{out_dir}/firstlvl/ses-1'\n",
    "directories = [d for d in os.listdir(first_path) if os.path.isdir(os.path.join(first_path, d))]\n",
    "len(directories)"
   ]
  },
  {
   "cell_type": "code",
   "execution_count": null,
   "id": "0b1d6559",
   "metadata": {},
   "outputs": [],
   "source": [
    "run = ['1','2']\n",
    "task = 'mid'\n",
    "df_eff = []\n",
    "\n",
    "for subject in directories:\n",
    "    df_r1 = pd.read_csv(f'{first_path}/{subject}/{subject}_ses-1_task-{task}_run-0{run[0]}_efficiency.tsv', sep=',')\n",
    "    df_r2 = pd.read_csv(f'{first_path}/{subject}/{subject}_ses-1_task-{task}_run-0{run[1]}_efficiency.tsv', sep=',')\n",
    "    for i, column_name in enumerate(['fwhm', 'motion', 'model']):\n",
    "        df_r1[column_name] = [item[i] for item in permutation_list]\n",
    "        df_r2[column_name] = [item[i] for item in permutation_list]\n",
    "        \n",
    "    df_r1.drop_duplicates(subset=['model', 'motion'], inplace=True)\n",
    "    df_r2.drop_duplicates(subset=['model', 'motion'], inplace=True)\n",
    "    df_concatenated = pd.concat([df_r1, df_r2])\n",
    "    df_average = df_concatenated.groupby(['model', 'motion']).mean().reset_index()\n",
    "    df_average = df_average.drop(['run', 'fwhm'], axis=1)\n",
    "    df_average['subject'] = subject\n",
    "    \n",
    "    df_eff.append(df_average)\n",
    "    \n",
    "df_eff = pd.concat(df_eff, ignore_index=True)"
   ]
  },
  {
   "cell_type": "code",
   "execution_count": null,
   "id": "e003eba6",
   "metadata": {},
   "outputs": [],
   "source": [
    "columns_to_melt = [\"Lgain-Neut\", \"Sgain-Neut\", \"Lgain-Base\", \"Sgain-Base\"]\n",
    "\n",
    "# convert wide to long format\n",
    "df_eff_lg = pd.melt(df_eff, id_vars=['subject', 'model', 'motion'], \n",
    "                      value_vars=columns_to_melt, var_name='con', value_name='eff_est')\n",
    "\n",
    "# efficiency \n",
    "out_efficiency= f'{out_dir}/file_output/sample-{sample}_ses-1_stats-efficiency.tsv'\n",
    "df_eff_lg.to_csv(out_efficiency, sep='\\t', index=False)"
   ]
  },
  {
   "cell_type": "markdown",
   "id": "8d453814-fc2e-4a87-b0ea-6434735036bb",
   "metadata": {},
   "source": [
    "# Means and Stand Dev of Estimates"
   ]
  },
  {
   "cell_type": "markdown",
   "id": "831ff481-eeb6-477e-8eb9-ad8f4f5be9b0",
   "metadata": {},
   "source": [
    "For Aim 1 (ICC estimate) and Aim 2 (Mean Square Between Subject and Within Subject Variance), stated would include:\n",
    "\n",
    "\"First, voxel-wise average and standard deviation from the resulting ICCs for the 360 model permutations are reported in two 3D volumes.\"\n",
    "\n",
    "Selected coordinated (L) Ventral Striatum based on Neurosynth search term \"ventral striatum\" threshold > 20"
   ]
  },
  {
   "cell_type": "markdown",
   "id": "dab59674-60ce-46f9-b228-b504a00a376f",
   "metadata": {},
   "source": [
    "## ICC est"
   ]
  },
  {
   "cell_type": "code",
   "execution_count": null,
   "id": "45024faa-635e-446c-b31a-300de6624cef",
   "metadata": {},
   "outputs": [],
   "source": [
    "icc_mean_supra, icc_sd_supra = mean_sd_img(icc_supra_imgs)\n",
    "icc_mean_sub, icc_sd_sub = mean_sd_img(icc_sub_imgs)"
   ]
  },
  {
   "cell_type": "code",
   "execution_count": null,
   "id": "5bba426b-bf4f-4345-b917-c0313b8a93c1",
   "metadata": {
    "scrolled": true
   },
   "outputs": [],
   "source": [
    "icc_maps = [icc_mean_supra, icc_sd_supra, icc_mean_sub, icc_sd_sub]\n",
    "icc_names = ['icc_mean_supra', 'icc_sd_supra', 'icc_mean_sub', 'icc_sd_sub']\n",
    "\n",
    "plot_icc_maps(maps=icc_maps, names=icc_names, \n",
    "              coordinates=(-10, 8, -10),vmax=1)"
   ]
  },
  {
   "cell_type": "markdown",
   "id": "e28dbe11-df7f-40b3-9db9-459455b2d6e0",
   "metadata": {},
   "source": [
    "## MSBS est"
   ]
  },
  {
   "cell_type": "code",
   "execution_count": null,
   "id": "4404e997-87f0-4eb4-a6ba-86e53b87999b",
   "metadata": {},
   "outputs": [],
   "source": [
    "bs_mean_supra, bs_sd_supra = mean_sd_img(bs_supra_imgs)\n",
    "bs_mean_sub, bs_sd_sub = mean_sd_img(bs_sub_imgs)"
   ]
  },
  {
   "cell_type": "code",
   "execution_count": null,
   "id": "2ac4be34",
   "metadata": {},
   "outputs": [],
   "source": [
    "bs_maps = [bs_mean_supra, bs_sd_supra, bs_mean_sub, bs_sd_sub]\n",
    "bs_names = ['bs_mean_supra', 'bs_sd_supra', 'bs_mean_sub', 'bs_sd_sub']\n",
    "\n",
    "plot_icc_maps(maps=bs_maps, names=bs_names, \n",
    "              coordinates=(-10, 8, -10),vmax=20)"
   ]
  },
  {
   "cell_type": "markdown",
   "id": "3254a7c1-823a-4eb7-961d-64857d1d2ff1",
   "metadata": {},
   "source": [
    "## MSWS est"
   ]
  },
  {
   "cell_type": "code",
   "execution_count": null,
   "id": "a43b9af9-36c0-4c06-b5df-752ca2f9604c",
   "metadata": {},
   "outputs": [],
   "source": [
    "ws_mean_supra, ws_sd_supra = mean_sd_img(ws_supra_imgs)\n",
    "ws_mean_sub, ws_sd_sub = mean_sd_img(ws_sub_imgs)"
   ]
  },
  {
   "cell_type": "code",
   "execution_count": null,
   "id": "e02ff383-095c-41a1-b076-90d33a7cc5d0",
   "metadata": {},
   "outputs": [],
   "source": [
    "ws_maps = [ws_mean_supra, ws_sd_supra, ws_mean_sub, ws_sd_sub]\n",
    "ws_names = ['ws_mean_supra', 'ws_sd_supra', 'ws_mean_sub', 'ws_sd_sub']\n",
    "\n",
    "plot_icc_maps(maps=ws_maps, names=ws_names, \n",
    "              coordinates=(-10, 8, -10),vmax=20)"
   ]
  },
  {
   "cell_type": "markdown",
   "id": "1f09d412-e366-4fd2-a32d-4055f9ad7891",
   "metadata": {},
   "source": [
    "# Loading files, Extracting median ICC and providing distribution"
   ]
  },
  {
   "cell_type": "markdown",
   "id": "fae3c5a6-ad93-4eba-9eea-46ed6551b485",
   "metadata": {},
   "source": [
    "For Aim 1 and Aim 2 state would include:\n",
    "\"Second, the range and distribution of median ICCs across each study (three) and analytic decision category (four) are plotted across suprathreshold task-positive and subthreshold ICCs using Rainclouds (Allen et al., 2019) and the median and standard deviation is reported in a table.\"\n",
    "\n",
    "While included here to rank and contain some information, plots will be created in R using raincloud features that are more powerful"
   ]
  },
  {
   "cell_type": "code",
   "execution_count": null,
   "id": "ae744e2e-06d0-4f25-86b7-f41ed4b9bf06",
   "metadata": {},
   "outputs": [],
   "source": [
    "# icc datasets\n",
    "df_icc_supra = process_dataset(icc_supra_imgs, mask_supra, out_icc_supra)\n",
    "df_icc_sub = process_dataset(icc_sub_imgs, mask_sub, out_icc_sub)\n",
    "\n",
    "# msbs datasets\n",
    "df_bs_supra = process_dataset(bs_supra_imgs, mask_supra, out_bs_supra)\n",
    "df_bs_sub = process_dataset(bs_sub_imgs, mask_sub, out_bs_sub)\n",
    "\n",
    "# msws datasets\n",
    "df_ws_supra = process_dataset(ws_supra_imgs, mask_supra, out_ws_supra)\n",
    "df_ws_sub = process_dataset(ws_sub_imgs, mask_sub, out_ws_sub)"
   ]
  },
  {
   "cell_type": "markdown",
   "id": "0da06859-5bc0-499e-b5c4-bc0822fb203f",
   "metadata": {},
   "source": [
    "### sort ICC by median est + img of highest"
   ]
  },
  {
   "cell_type": "code",
   "execution_count": null,
   "id": "43b126ad-c422-4fbd-bb18-7e4d2ce00b3e",
   "metadata": {
    "scrolled": true
   },
   "outputs": [],
   "source": [
    "df_icc_supra.sort_values(by='median_est', ascending=False)"
   ]
  },
  {
   "cell_type": "code",
   "execution_count": null,
   "id": "d383763b-db1a-4ad6-bc1b-a045891714fe",
   "metadata": {},
   "outputs": [],
   "source": [
    "df_icc_sub.sort_values(by='median_est', ascending=False)"
   ]
  },
  {
   "cell_type": "code",
   "execution_count": null,
   "id": "769bacac",
   "metadata": {},
   "outputs": [],
   "source": [
    "icc_maps = [icc_supra_imgs, icc_sub_imgs]\n",
    "icc_img = 159\n",
    "\n",
    "plot_top_maps(imgs=icc_maps, img_index=icc_img,\n",
    "              coordinates=(-10, 8, -10), vmax=1)"
   ]
  },
  {
   "cell_type": "code",
   "execution_count": null,
   "id": "91c79b43-e31b-4f5b-8dfb-b187828997b3",
   "metadata": {},
   "outputs": [],
   "source": [
    "model_name = df_icc_supra.loc[icc_img, ['con', 'model', 'fwhm']].values\n",
    "xlab = f'ICC Type:\\n {\", \".join(model_name)}'\n",
    "\n",
    "plot_dist_imgs(supra_imgs=icc_supra_imgs, sub_imgs=icc_sub_imgs, img_index=icc_img,\n",
    "               mask_supra=mask_supra, mask_sub=mask_sub,\n",
    "               bins=100, ylim=(0,5),xlim=(-1,1),dec_round=3,\n",
    "               xlab=xlab)"
   ]
  },
  {
   "cell_type": "code",
   "execution_count": null,
   "id": "3c99c60d",
   "metadata": {},
   "outputs": [],
   "source": [
    "# match to top session test-retest model\n",
    "conditions = (\n",
    "    (df_icc_supra[\"mask\"] == \"mask-wilson-supra\") &\n",
    "    (df_icc_supra[\"con\"] == \"contrast-Lgain-Base\") &\n",
    "    #(df_icc_supra[\"motion\"] == \"mot-opt3\") &\n",
    "    (df_icc_supra[\"model\"] == \"mod-AntMod\") \n",
    "    #(df_icc_supra[\"fwhm\"] == \"fwhm-8.4\")\n",
    ")\n",
    "\n",
    "df_icc_supra[conditions].sort_values(by='median_est', ascending=False)"
   ]
  },
  {
   "cell_type": "code",
   "execution_count": null,
   "id": "6cf085cd",
   "metadata": {},
   "outputs": [],
   "source": [
    "icc_maps = [icc_supra_imgs, icc_sub_imgs]\n",
    "icc_img = 4\n",
    "\n",
    "plot_top_maps(imgs=icc_maps,\n",
    "              img_index=icc_img,\n",
    "              coordinates=(-10, 8, -10), vmax=1)"
   ]
  },
  {
   "cell_type": "code",
   "execution_count": null,
   "id": "531a5e4c",
   "metadata": {},
   "outputs": [],
   "source": [
    "model_name = df_icc_supra.loc[icc_img, ['con', 'model', 'fwhm']].values\n",
    "xlab = f'Alt ICC Type:\\n {\", \".join(model_name)}'\n",
    "\n",
    "plot_dist_imgs(supra_imgs=icc_supra_imgs, sub_imgs=icc_sub_imgs, img_index=icc_img,\n",
    "               mask_supra=mask_supra, mask_sub=mask_sub,\n",
    "               bins=100, ylim=(0,5),xlim=(-1,1),dec_round=3,\n",
    "               xlab=xlab)"
   ]
  },
  {
   "cell_type": "markdown",
   "id": "8e4fd094-9041-426e-9854-3065449453b4",
   "metadata": {},
   "source": [
    "### sort MSBS by median est + img of highest"
   ]
  },
  {
   "cell_type": "code",
   "execution_count": null,
   "id": "d479a4dc-2f61-4be4-ac3e-aac1242a4186",
   "metadata": {},
   "outputs": [],
   "source": [
    "df_bs_supra.sort_values(by='median_est', ascending=False)"
   ]
  },
  {
   "cell_type": "code",
   "execution_count": null,
   "id": "3eaa9aa2-92f7-4599-8a14-18e0853dbcf3",
   "metadata": {},
   "outputs": [],
   "source": [
    "df_bs_sub.sort_values(by='median_est', ascending=False)"
   ]
  },
  {
   "cell_type": "code",
   "execution_count": null,
   "id": "a9ba1bbe-b525-4227-ab62-9f8755cd0682",
   "metadata": {},
   "outputs": [],
   "source": [
    "bs_maps = [bs_supra_imgs, bs_sub_imgs]\n",
    "bs_img = 5\n",
    "\n",
    "plot_top_maps(imgs=bs_maps,\n",
    "              img_index=bs_img,\n",
    "              coordinates=(-10, 8, -10), \n",
    "              vmax=50)"
   ]
  },
  {
   "cell_type": "code",
   "execution_count": null,
   "id": "da24b240-af8a-41ac-8d8b-e08b7dc1e496",
   "metadata": {},
   "outputs": [],
   "source": [
    "model_name = df_bs_supra.loc[bs_img, ['con', 'model', 'fwhm']].values\n",
    "xlab = f'MSBS Model Type:\\n {\", \".join(model_name)}'\n",
    "\n",
    "plot_dist_imgs(supra_imgs=bs_supra_imgs, sub_imgs=bs_sub_imgs, img_index=bs_img,\n",
    "               mask_supra=mask_supra, mask_sub=mask_sub,\n",
    "               bins=500,ylim=(0,1),xlim=(-5,50),\n",
    "               xlab=xlab)"
   ]
  },
  {
   "cell_type": "markdown",
   "id": "d12580d4-39eb-458a-b523-f36dc541cfcb",
   "metadata": {},
   "source": [
    "### sort MSWS by median est + img of highest"
   ]
  },
  {
   "cell_type": "code",
   "execution_count": null,
   "id": "bc8f9fbe-623c-43f8-89cd-81c769d06ab8",
   "metadata": {},
   "outputs": [],
   "source": [
    "df_ws_supra.sort_values(by='median_est', ascending=False)"
   ]
  },
  {
   "cell_type": "code",
   "execution_count": null,
   "id": "ff61c497-57c5-4f16-a8f9-8495cb049394",
   "metadata": {},
   "outputs": [],
   "source": [
    "df_ws_sub.sort_values(by='median_est', ascending=False)"
   ]
  },
  {
   "cell_type": "code",
   "execution_count": null,
   "id": "e5ac32e6-97c6-47a8-9133-c62bc0406d06",
   "metadata": {},
   "outputs": [],
   "source": [
    "ws_maps = [ws_supra_imgs, ws_sub_imgs]\n",
    "ws_img = 5\n",
    "\n",
    "plot_top_maps(imgs=ws_maps,\n",
    "              img_index=ws_img,\n",
    "              coordinates=(-10, 8, -10), vmax=50)"
   ]
  },
  {
   "cell_type": "code",
   "execution_count": null,
   "id": "9595cd5a-91f9-4912-9343-2e2a1d04a412",
   "metadata": {},
   "outputs": [],
   "source": [
    "model_name = df_ws_supra.loc[ws_img, ['con', 'model', 'fwhm']].values\n",
    "xlab = f'MSWS Type:\\n {\", \".join(model_name)}'\n",
    "\n",
    "plot_dist_imgs(supra_imgs=ws_supra_imgs, sub_imgs=ws_sub_imgs, img_index=ws_img,\n",
    "               mask_supra=mask_supra, mask_sub=mask_sub,\n",
    "               bins=500,ylim=(0,5),xlim=(-5,50),\n",
    "               xlab=xlab)"
   ]
  },
  {
   "cell_type": "markdown",
   "id": "b173b93a",
   "metadata": {},
   "source": [
    "# Residual Variance ~ ICC / MSWS / Cohens D"
   ]
  },
  {
   "cell_type": "code",
   "execution_count": 12,
   "id": "2e611786",
   "metadata": {},
   "outputs": [],
   "source": [
    "first_path = f'{out_dir}/firstlvl'\n",
    "ses1_out = f'{group_out}/ses-1/session'\n",
    "ses2_out = f'{group_out}/ses-2/session'\n",
    "ses_out = f'{group_out}/ses_residvar'\n",
    "con_opts = ['Lgain-Neut','Lgain-Base','Sgain-Neut','Sgain-Base']\n",
    "model_opts = ['CueMod','AntMod','FixMod']\n",
    "task = 'mid'\n",
    "fwhm = 'fwhm-6.0'\n",
    "n = 60\n",
    "\n",
    "if not os.path.exists(ses_out):\n",
    "    os.makedirs(ses_out)"
   ]
  },
  {
   "cell_type": "code",
   "execution_count": 11,
   "id": "e36d57b6",
   "metadata": {},
   "outputs": [
    {
     "ename": "KeyboardInterrupt",
     "evalue": "",
     "output_type": "error",
     "traceback": [
      "\u001b[0;31m---------------------------------------------------------------------------\u001b[0m",
      "\u001b[0;31mKeyboardInterrupt\u001b[0m                         Traceback (most recent call last)",
      "\u001b[0;32m/tmp/ipykernel_28826/72862664.py\u001b[0m in \u001b[0;36m<module>\u001b[0;34m\u001b[0m\n\u001b[1;32m      5\u001b[0m         \u001b[0mresid_ses2_imgs\u001b[0m \u001b[0;34m=\u001b[0m \u001b[0mglob\u001b[0m\u001b[0;34m(\u001b[0m\u001b[0;34mf'{first_path}/ses-2/**/*_ses-2_task-{task}_run-0*_contrast-{con}_mask-mni152_mot-opt1_mod-{mod}_{fwhm}_stat-residvar.nii.gz'\u001b[0m\u001b[0;34m)\u001b[0m\u001b[0;34m\u001b[0m\u001b[0;34m\u001b[0m\u001b[0m\n\u001b[1;32m      6\u001b[0m \u001b[0;34m\u001b[0m\u001b[0m\n\u001b[0;32m----> 7\u001b[0;31m         \u001b[0mses1_mean\u001b[0m\u001b[0;34m,\u001b[0m \u001b[0mses1_sd\u001b[0m \u001b[0;34m=\u001b[0m \u001b[0mmean_sd_img\u001b[0m\u001b[0;34m(\u001b[0m\u001b[0mresid_ses1_imgs\u001b[0m\u001b[0;34m)\u001b[0m\u001b[0;34m\u001b[0m\u001b[0;34m\u001b[0m\u001b[0m\n\u001b[0m\u001b[1;32m      8\u001b[0m         \u001b[0mses2_mean\u001b[0m\u001b[0;34m,\u001b[0m \u001b[0mses2_sd\u001b[0m \u001b[0;34m=\u001b[0m \u001b[0mmean_sd_img\u001b[0m\u001b[0;34m(\u001b[0m\u001b[0mresid_ses1_imgs\u001b[0m\u001b[0;34m)\u001b[0m\u001b[0;34m\u001b[0m\u001b[0;34m\u001b[0m\u001b[0m\n\u001b[1;32m      9\u001b[0m         \u001b[0mses_mean\u001b[0m\u001b[0;34m,\u001b[0m \u001b[0mses_sd\u001b[0m \u001b[0;34m=\u001b[0m \u001b[0mmean_sd_img\u001b[0m\u001b[0;34m(\u001b[0m\u001b[0;34m[\u001b[0m\u001b[0mses1_mean\u001b[0m\u001b[0;34m,\u001b[0m\u001b[0mses2_mean\u001b[0m\u001b[0;34m]\u001b[0m\u001b[0;34m)\u001b[0m\u001b[0;34m\u001b[0m\u001b[0;34m\u001b[0m\u001b[0m\n",
      "\u001b[0;32m/tmp/ipykernel_28826/2957008495.py\u001b[0m in \u001b[0;36mmean_sd_img\u001b[0;34m(list_imgs)\u001b[0m\n\u001b[1;32m     36\u001b[0m \u001b[0;32mdef\u001b[0m \u001b[0mmean_sd_img\u001b[0m\u001b[0;34m(\u001b[0m\u001b[0mlist_imgs\u001b[0m\u001b[0;34m)\u001b[0m\u001b[0;34m:\u001b[0m\u001b[0;34m\u001b[0m\u001b[0;34m\u001b[0m\u001b[0m\n\u001b[1;32m     37\u001b[0m     \u001b[0;31m# get data and stack it\u001b[0m\u001b[0;34m\u001b[0m\u001b[0;34m\u001b[0m\u001b[0;34m\u001b[0m\u001b[0m\n\u001b[0;32m---> 38\u001b[0;31m     \u001b[0mimg_list\u001b[0m \u001b[0;34m=\u001b[0m \u001b[0;34m[\u001b[0m\u001b[0mimage\u001b[0m\u001b[0;34m.\u001b[0m\u001b[0mload_img\u001b[0m\u001b[0;34m(\u001b[0m\u001b[0mimg_path\u001b[0m\u001b[0;34m)\u001b[0m \u001b[0;32mfor\u001b[0m \u001b[0mimg_path\u001b[0m \u001b[0;32min\u001b[0m \u001b[0mlist_imgs\u001b[0m\u001b[0;34m]\u001b[0m\u001b[0;34m\u001b[0m\u001b[0;34m\u001b[0m\u001b[0m\n\u001b[0m\u001b[1;32m     39\u001b[0m     \u001b[0mimg_data\u001b[0m \u001b[0;34m=\u001b[0m \u001b[0mnp\u001b[0m\u001b[0;34m.\u001b[0m\u001b[0mstack\u001b[0m\u001b[0;34m(\u001b[0m\u001b[0;34m[\u001b[0m\u001b[0mimg\u001b[0m\u001b[0;34m.\u001b[0m\u001b[0mget_fdata\u001b[0m\u001b[0;34m(\u001b[0m\u001b[0;34m)\u001b[0m \u001b[0;32mfor\u001b[0m \u001b[0mimg\u001b[0m \u001b[0;32min\u001b[0m \u001b[0mimg_list\u001b[0m\u001b[0;34m]\u001b[0m\u001b[0;34m,\u001b[0m \u001b[0maxis\u001b[0m\u001b[0;34m=\u001b[0m\u001b[0;34m-\u001b[0m\u001b[0;36m1\u001b[0m\u001b[0;34m)\u001b[0m\u001b[0;34m\u001b[0m\u001b[0;34m\u001b[0m\u001b[0m\n\u001b[1;32m     40\u001b[0m     \u001b[0;31m# calculate the mean + sd image\u001b[0m\u001b[0;34m\u001b[0m\u001b[0;34m\u001b[0m\u001b[0;34m\u001b[0m\u001b[0m\n",
      "\u001b[0;32m/tmp/ipykernel_28826/2957008495.py\u001b[0m in \u001b[0;36m<listcomp>\u001b[0;34m(.0)\u001b[0m\n\u001b[1;32m     36\u001b[0m \u001b[0;32mdef\u001b[0m \u001b[0mmean_sd_img\u001b[0m\u001b[0;34m(\u001b[0m\u001b[0mlist_imgs\u001b[0m\u001b[0;34m)\u001b[0m\u001b[0;34m:\u001b[0m\u001b[0;34m\u001b[0m\u001b[0;34m\u001b[0m\u001b[0m\n\u001b[1;32m     37\u001b[0m     \u001b[0;31m# get data and stack it\u001b[0m\u001b[0;34m\u001b[0m\u001b[0;34m\u001b[0m\u001b[0;34m\u001b[0m\u001b[0m\n\u001b[0;32m---> 38\u001b[0;31m     \u001b[0mimg_list\u001b[0m \u001b[0;34m=\u001b[0m \u001b[0;34m[\u001b[0m\u001b[0mimage\u001b[0m\u001b[0;34m.\u001b[0m\u001b[0mload_img\u001b[0m\u001b[0;34m(\u001b[0m\u001b[0mimg_path\u001b[0m\u001b[0;34m)\u001b[0m \u001b[0;32mfor\u001b[0m \u001b[0mimg_path\u001b[0m \u001b[0;32min\u001b[0m \u001b[0mlist_imgs\u001b[0m\u001b[0;34m]\u001b[0m\u001b[0;34m\u001b[0m\u001b[0;34m\u001b[0m\u001b[0m\n\u001b[0m\u001b[1;32m     39\u001b[0m     \u001b[0mimg_data\u001b[0m \u001b[0;34m=\u001b[0m \u001b[0mnp\u001b[0m\u001b[0;34m.\u001b[0m\u001b[0mstack\u001b[0m\u001b[0;34m(\u001b[0m\u001b[0;34m[\u001b[0m\u001b[0mimg\u001b[0m\u001b[0;34m.\u001b[0m\u001b[0mget_fdata\u001b[0m\u001b[0;34m(\u001b[0m\u001b[0;34m)\u001b[0m \u001b[0;32mfor\u001b[0m \u001b[0mimg\u001b[0m \u001b[0;32min\u001b[0m \u001b[0mimg_list\u001b[0m\u001b[0;34m]\u001b[0m\u001b[0;34m,\u001b[0m \u001b[0maxis\u001b[0m\u001b[0;34m=\u001b[0m\u001b[0;34m-\u001b[0m\u001b[0;36m1\u001b[0m\u001b[0;34m)\u001b[0m\u001b[0;34m\u001b[0m\u001b[0;34m\u001b[0m\u001b[0m\n\u001b[1;32m     40\u001b[0m     \u001b[0;31m# calculate the mean + sd image\u001b[0m\u001b[0;34m\u001b[0m\u001b[0;34m\u001b[0m\u001b[0;34m\u001b[0m\u001b[0m\n",
      "\u001b[0;32m~/.local/lib/python3.9/site-packages/nilearn/image/image.py\u001b[0m in \u001b[0;36mload_img\u001b[0;34m(img, wildcards, dtype)\u001b[0m\n\u001b[1;32m   1332\u001b[0m \u001b[0;34m\u001b[0m\u001b[0m\n\u001b[1;32m   1333\u001b[0m     \"\"\"\n\u001b[0;32m-> 1334\u001b[0;31m     \u001b[0;32mreturn\u001b[0m \u001b[0mcheck_niimg\u001b[0m\u001b[0;34m(\u001b[0m\u001b[0mimg\u001b[0m\u001b[0;34m,\u001b[0m \u001b[0mwildcards\u001b[0m\u001b[0;34m=\u001b[0m\u001b[0mwildcards\u001b[0m\u001b[0;34m,\u001b[0m \u001b[0mdtype\u001b[0m\u001b[0;34m=\u001b[0m\u001b[0mdtype\u001b[0m\u001b[0;34m)\u001b[0m\u001b[0;34m\u001b[0m\u001b[0;34m\u001b[0m\u001b[0m\n\u001b[0m\u001b[1;32m   1335\u001b[0m \u001b[0;34m\u001b[0m\u001b[0m\n\u001b[1;32m   1336\u001b[0m \u001b[0;34m\u001b[0m\u001b[0m\n",
      "\u001b[0;32m~/.local/lib/python3.9/site-packages/nilearn/_utils/niimg_conversions.py\u001b[0m in \u001b[0;36mcheck_niimg\u001b[0;34m(niimg, ensure_ndim, atleast_4d, dtype, return_iterator, wildcards)\u001b[0m\n\u001b[1;32m    317\u001b[0m \u001b[0;34m\u001b[0m\u001b[0m\n\u001b[1;32m    318\u001b[0m     \u001b[0;31m# Otherwise, it should be a filename or a SpatialImage, we load it\u001b[0m\u001b[0;34m\u001b[0m\u001b[0;34m\u001b[0m\u001b[0;34m\u001b[0m\u001b[0m\n\u001b[0;32m--> 319\u001b[0;31m     \u001b[0mniimg\u001b[0m \u001b[0;34m=\u001b[0m \u001b[0mload_niimg\u001b[0m\u001b[0;34m(\u001b[0m\u001b[0mniimg\u001b[0m\u001b[0;34m,\u001b[0m \u001b[0mdtype\u001b[0m\u001b[0;34m=\u001b[0m\u001b[0mdtype\u001b[0m\u001b[0;34m)\u001b[0m\u001b[0;34m\u001b[0m\u001b[0;34m\u001b[0m\u001b[0m\n\u001b[0m\u001b[1;32m    320\u001b[0m \u001b[0;34m\u001b[0m\u001b[0m\n\u001b[1;32m    321\u001b[0m     \u001b[0;32mif\u001b[0m \u001b[0mensure_ndim\u001b[0m \u001b[0;34m==\u001b[0m \u001b[0;36m3\u001b[0m \u001b[0;32mand\u001b[0m \u001b[0mlen\u001b[0m\u001b[0;34m(\u001b[0m\u001b[0mniimg\u001b[0m\u001b[0;34m.\u001b[0m\u001b[0mshape\u001b[0m\u001b[0;34m)\u001b[0m \u001b[0;34m==\u001b[0m \u001b[0;36m4\u001b[0m \u001b[0;32mand\u001b[0m \u001b[0mniimg\u001b[0m\u001b[0;34m.\u001b[0m\u001b[0mshape\u001b[0m\u001b[0;34m[\u001b[0m\u001b[0;36m3\u001b[0m\u001b[0;34m]\u001b[0m \u001b[0;34m==\u001b[0m \u001b[0;36m1\u001b[0m\u001b[0;34m:\u001b[0m\u001b[0;34m\u001b[0m\u001b[0;34m\u001b[0m\u001b[0m\n",
      "\u001b[0;32m~/.local/lib/python3.9/site-packages/nilearn/_utils/niimg.py\u001b[0m in \u001b[0;36mload_niimg\u001b[0;34m(niimg, dtype)\u001b[0m\n\u001b[1;32m    131\u001b[0m         )\n\u001b[1;32m    132\u001b[0m \u001b[0;34m\u001b[0m\u001b[0m\n\u001b[0;32m--> 133\u001b[0;31m     \u001b[0mdtype\u001b[0m \u001b[0;34m=\u001b[0m \u001b[0m_get_target_dtype\u001b[0m\u001b[0;34m(\u001b[0m\u001b[0m_get_data\u001b[0m\u001b[0;34m(\u001b[0m\u001b[0mniimg\u001b[0m\u001b[0;34m)\u001b[0m\u001b[0;34m.\u001b[0m\u001b[0mdtype\u001b[0m\u001b[0;34m,\u001b[0m \u001b[0mdtype\u001b[0m\u001b[0;34m)\u001b[0m\u001b[0;34m\u001b[0m\u001b[0;34m\u001b[0m\u001b[0m\n\u001b[0m\u001b[1;32m    134\u001b[0m \u001b[0;34m\u001b[0m\u001b[0m\n\u001b[1;32m    135\u001b[0m     \u001b[0;32mif\u001b[0m \u001b[0mdtype\u001b[0m \u001b[0;32mis\u001b[0m \u001b[0;32mnot\u001b[0m \u001b[0;32mNone\u001b[0m\u001b[0;34m:\u001b[0m\u001b[0;34m\u001b[0m\u001b[0;34m\u001b[0m\u001b[0m\n",
      "\u001b[0;32m~/.local/lib/python3.9/site-packages/nilearn/_utils/niimg.py\u001b[0m in \u001b[0;36m_get_data\u001b[0;34m(img)\u001b[0m\n\u001b[1;32m     22\u001b[0m     \u001b[0;32mif\u001b[0m \u001b[0mimg\u001b[0m\u001b[0;34m.\u001b[0m\u001b[0m_data_cache\u001b[0m \u001b[0;32mis\u001b[0m \u001b[0;32mnot\u001b[0m \u001b[0;32mNone\u001b[0m\u001b[0;34m:\u001b[0m\u001b[0;34m\u001b[0m\u001b[0;34m\u001b[0m\u001b[0m\n\u001b[1;32m     23\u001b[0m         \u001b[0;32mreturn\u001b[0m \u001b[0mimg\u001b[0m\u001b[0;34m.\u001b[0m\u001b[0m_data_cache\u001b[0m\u001b[0;34m\u001b[0m\u001b[0;34m\u001b[0m\u001b[0m\n\u001b[0;32m---> 24\u001b[0;31m     \u001b[0mdata\u001b[0m \u001b[0;34m=\u001b[0m \u001b[0mnp\u001b[0m\u001b[0;34m.\u001b[0m\u001b[0masanyarray\u001b[0m\u001b[0;34m(\u001b[0m\u001b[0mimg\u001b[0m\u001b[0;34m.\u001b[0m\u001b[0m_dataobj\u001b[0m\u001b[0;34m)\u001b[0m\u001b[0;34m\u001b[0m\u001b[0;34m\u001b[0m\u001b[0m\n\u001b[0m\u001b[1;32m     25\u001b[0m     \u001b[0mimg\u001b[0m\u001b[0;34m.\u001b[0m\u001b[0m_data_cache\u001b[0m \u001b[0;34m=\u001b[0m \u001b[0mdata\u001b[0m\u001b[0;34m\u001b[0m\u001b[0;34m\u001b[0m\u001b[0m\n\u001b[1;32m     26\u001b[0m     \u001b[0;32mreturn\u001b[0m \u001b[0mdata\u001b[0m\u001b[0;34m\u001b[0m\u001b[0;34m\u001b[0m\u001b[0m\n",
      "\u001b[0;32m~/.local/lib/python3.9/site-packages/nibabel/arrayproxy.py\u001b[0m in \u001b[0;36m__array__\u001b[0;34m(self, dtype)\u001b[0m\n\u001b[1;32m    437\u001b[0m             \u001b[0mScaled\u001b[0m \u001b[0mimage\u001b[0m \u001b[0mdata\u001b[0m \u001b[0;32mwith\u001b[0m \u001b[0mtype\u001b[0m\u001b[0;31m \u001b[0m\u001b[0;31m`\u001b[0m\u001b[0mdtype\u001b[0m\u001b[0;31m`\u001b[0m\u001b[0;34m.\u001b[0m\u001b[0;34m\u001b[0m\u001b[0;34m\u001b[0m\u001b[0m\n\u001b[1;32m    438\u001b[0m         \"\"\"\n\u001b[0;32m--> 439\u001b[0;31m         \u001b[0marr\u001b[0m \u001b[0;34m=\u001b[0m \u001b[0mself\u001b[0m\u001b[0;34m.\u001b[0m\u001b[0m_get_scaled\u001b[0m\u001b[0;34m(\u001b[0m\u001b[0mdtype\u001b[0m\u001b[0;34m=\u001b[0m\u001b[0mdtype\u001b[0m\u001b[0;34m,\u001b[0m \u001b[0mslicer\u001b[0m\u001b[0;34m=\u001b[0m\u001b[0;34m(\u001b[0m\u001b[0;34m)\u001b[0m\u001b[0;34m)\u001b[0m\u001b[0;34m\u001b[0m\u001b[0;34m\u001b[0m\u001b[0m\n\u001b[0m\u001b[1;32m    440\u001b[0m         \u001b[0;32mif\u001b[0m \u001b[0mdtype\u001b[0m \u001b[0;32mis\u001b[0m \u001b[0;32mnot\u001b[0m \u001b[0;32mNone\u001b[0m\u001b[0;34m:\u001b[0m\u001b[0;34m\u001b[0m\u001b[0;34m\u001b[0m\u001b[0m\n\u001b[1;32m    441\u001b[0m             \u001b[0marr\u001b[0m \u001b[0;34m=\u001b[0m \u001b[0marr\u001b[0m\u001b[0;34m.\u001b[0m\u001b[0mastype\u001b[0m\u001b[0;34m(\u001b[0m\u001b[0mdtype\u001b[0m\u001b[0;34m,\u001b[0m \u001b[0mcopy\u001b[0m\u001b[0;34m=\u001b[0m\u001b[0;32mFalse\u001b[0m\u001b[0;34m)\u001b[0m\u001b[0;34m\u001b[0m\u001b[0;34m\u001b[0m\u001b[0m\n",
      "\u001b[0;32m~/.local/lib/python3.9/site-packages/nibabel/arrayproxy.py\u001b[0m in \u001b[0;36m_get_scaled\u001b[0;34m(self, dtype, slicer)\u001b[0m\n\u001b[1;32m    404\u001b[0m             \u001b[0mscl_inter\u001b[0m \u001b[0;34m=\u001b[0m \u001b[0mscl_inter\u001b[0m\u001b[0;34m.\u001b[0m\u001b[0mastype\u001b[0m\u001b[0;34m(\u001b[0m\u001b[0muse_dtype\u001b[0m\u001b[0;34m)\u001b[0m\u001b[0;34m\u001b[0m\u001b[0;34m\u001b[0m\u001b[0m\n\u001b[1;32m    405\u001b[0m         \u001b[0;31m# Read array and upcast as necessary for big slopes, intercepts\u001b[0m\u001b[0;34m\u001b[0m\u001b[0;34m\u001b[0m\u001b[0;34m\u001b[0m\u001b[0m\n\u001b[0;32m--> 406\u001b[0;31m         \u001b[0mscaled\u001b[0m \u001b[0;34m=\u001b[0m \u001b[0mapply_read_scaling\u001b[0m\u001b[0;34m(\u001b[0m\u001b[0mself\u001b[0m\u001b[0;34m.\u001b[0m\u001b[0m_get_unscaled\u001b[0m\u001b[0;34m(\u001b[0m\u001b[0mslicer\u001b[0m\u001b[0;34m=\u001b[0m\u001b[0mslicer\u001b[0m\u001b[0;34m)\u001b[0m\u001b[0;34m,\u001b[0m \u001b[0mscl_slope\u001b[0m\u001b[0;34m,\u001b[0m \u001b[0mscl_inter\u001b[0m\u001b[0;34m)\u001b[0m\u001b[0;34m\u001b[0m\u001b[0;34m\u001b[0m\u001b[0m\n\u001b[0m\u001b[1;32m    407\u001b[0m         \u001b[0;32mif\u001b[0m \u001b[0mdtype\u001b[0m \u001b[0;32mis\u001b[0m \u001b[0;32mnot\u001b[0m \u001b[0;32mNone\u001b[0m\u001b[0;34m:\u001b[0m\u001b[0;34m\u001b[0m\u001b[0;34m\u001b[0m\u001b[0m\n\u001b[1;32m    408\u001b[0m             \u001b[0mscaled\u001b[0m \u001b[0;34m=\u001b[0m \u001b[0mscaled\u001b[0m\u001b[0;34m.\u001b[0m\u001b[0mastype\u001b[0m\u001b[0;34m(\u001b[0m\u001b[0mnp\u001b[0m\u001b[0;34m.\u001b[0m\u001b[0mpromote_types\u001b[0m\u001b[0;34m(\u001b[0m\u001b[0mscaled\u001b[0m\u001b[0;34m.\u001b[0m\u001b[0mdtype\u001b[0m\u001b[0;34m,\u001b[0m \u001b[0mdtype\u001b[0m\u001b[0;34m)\u001b[0m\u001b[0;34m,\u001b[0m \u001b[0mcopy\u001b[0m\u001b[0;34m=\u001b[0m\u001b[0;32mFalse\u001b[0m\u001b[0;34m)\u001b[0m\u001b[0;34m\u001b[0m\u001b[0;34m\u001b[0m\u001b[0m\n",
      "\u001b[0;32m~/.local/lib/python3.9/site-packages/nibabel/arrayproxy.py\u001b[0m in \u001b[0;36m_get_unscaled\u001b[0;34m(self, slicer)\u001b[0m\n\u001b[1;32m    374\u001b[0m         ):\n\u001b[1;32m    375\u001b[0m             \u001b[0;32mwith\u001b[0m \u001b[0mself\u001b[0m\u001b[0;34m.\u001b[0m\u001b[0m_get_fileobj\u001b[0m\u001b[0;34m(\u001b[0m\u001b[0;34m)\u001b[0m \u001b[0;32mas\u001b[0m \u001b[0mfileobj\u001b[0m\u001b[0;34m,\u001b[0m \u001b[0mself\u001b[0m\u001b[0;34m.\u001b[0m\u001b[0m_lock\u001b[0m\u001b[0;34m:\u001b[0m\u001b[0;34m\u001b[0m\u001b[0;34m\u001b[0m\u001b[0m\n\u001b[0;32m--> 376\u001b[0;31m                 return array_from_file(\n\u001b[0m\u001b[1;32m    377\u001b[0m                     \u001b[0mself\u001b[0m\u001b[0;34m.\u001b[0m\u001b[0m_shape\u001b[0m\u001b[0;34m,\u001b[0m\u001b[0;34m\u001b[0m\u001b[0;34m\u001b[0m\u001b[0m\n\u001b[1;32m    378\u001b[0m                     \u001b[0mself\u001b[0m\u001b[0;34m.\u001b[0m\u001b[0m_dtype\u001b[0m\u001b[0;34m,\u001b[0m\u001b[0;34m\u001b[0m\u001b[0;34m\u001b[0m\u001b[0m\n",
      "\u001b[0;32m~/.local/lib/python3.9/site-packages/nibabel/volumeutils.py\u001b[0m in \u001b[0;36marray_from_file\u001b[0;34m(shape, in_dtype, infile, offset, order, mmap)\u001b[0m\n\u001b[1;32m    463\u001b[0m     \u001b[0;32mif\u001b[0m \u001b[0mhasattr\u001b[0m\u001b[0;34m(\u001b[0m\u001b[0minfile\u001b[0m\u001b[0;34m,\u001b[0m \u001b[0;34m'readinto'\u001b[0m\u001b[0;34m)\u001b[0m\u001b[0;34m:\u001b[0m\u001b[0;34m\u001b[0m\u001b[0;34m\u001b[0m\u001b[0m\n\u001b[1;32m    464\u001b[0m         \u001b[0mdata_bytes\u001b[0m \u001b[0;34m=\u001b[0m \u001b[0mbytearray\u001b[0m\u001b[0;34m(\u001b[0m\u001b[0mn_bytes\u001b[0m\u001b[0;34m)\u001b[0m\u001b[0;34m\u001b[0m\u001b[0;34m\u001b[0m\u001b[0m\n\u001b[0;32m--> 465\u001b[0;31m         \u001b[0mn_read\u001b[0m \u001b[0;34m=\u001b[0m \u001b[0minfile\u001b[0m\u001b[0;34m.\u001b[0m\u001b[0mreadinto\u001b[0m\u001b[0;34m(\u001b[0m\u001b[0mdata_bytes\u001b[0m\u001b[0;34m)\u001b[0m\u001b[0;34m\u001b[0m\u001b[0;34m\u001b[0m\u001b[0m\n\u001b[0m\u001b[1;32m    466\u001b[0m         \u001b[0mneeds_copy\u001b[0m \u001b[0;34m=\u001b[0m \u001b[0;32mFalse\u001b[0m\u001b[0;34m\u001b[0m\u001b[0;34m\u001b[0m\u001b[0m\n\u001b[1;32m    467\u001b[0m     \u001b[0;32melse\u001b[0m\u001b[0;34m:\u001b[0m\u001b[0;34m\u001b[0m\u001b[0;34m\u001b[0m\u001b[0m\n",
      "\u001b[0;32m/share/software/user/open/python/3.9.0/lib/python3.9/gzip.py\u001b[0m in \u001b[0;36mread\u001b[0;34m(self, size)\u001b[0m\n\u001b[1;32m    298\u001b[0m             \u001b[0;32mimport\u001b[0m \u001b[0merrno\u001b[0m\u001b[0;34m\u001b[0m\u001b[0;34m\u001b[0m\u001b[0m\n\u001b[1;32m    299\u001b[0m             \u001b[0;32mraise\u001b[0m \u001b[0mOSError\u001b[0m\u001b[0;34m(\u001b[0m\u001b[0merrno\u001b[0m\u001b[0;34m.\u001b[0m\u001b[0mEBADF\u001b[0m\u001b[0;34m,\u001b[0m \u001b[0;34m\"read() on write-only GzipFile object\"\u001b[0m\u001b[0;34m)\u001b[0m\u001b[0;34m\u001b[0m\u001b[0;34m\u001b[0m\u001b[0m\n\u001b[0;32m--> 300\u001b[0;31m         \u001b[0;32mreturn\u001b[0m \u001b[0mself\u001b[0m\u001b[0;34m.\u001b[0m\u001b[0m_buffer\u001b[0m\u001b[0;34m.\u001b[0m\u001b[0mread\u001b[0m\u001b[0;34m(\u001b[0m\u001b[0msize\u001b[0m\u001b[0;34m)\u001b[0m\u001b[0;34m\u001b[0m\u001b[0;34m\u001b[0m\u001b[0m\n\u001b[0m\u001b[1;32m    301\u001b[0m \u001b[0;34m\u001b[0m\u001b[0m\n\u001b[1;32m    302\u001b[0m     \u001b[0;32mdef\u001b[0m \u001b[0mread1\u001b[0m\u001b[0;34m(\u001b[0m\u001b[0mself\u001b[0m\u001b[0;34m,\u001b[0m \u001b[0msize\u001b[0m\u001b[0;34m=\u001b[0m\u001b[0;34m-\u001b[0m\u001b[0;36m1\u001b[0m\u001b[0;34m)\u001b[0m\u001b[0;34m:\u001b[0m\u001b[0;34m\u001b[0m\u001b[0;34m\u001b[0m\u001b[0m\n",
      "\u001b[0;32m/share/software/user/open/python/3.9.0/lib/python3.9/_compression.py\u001b[0m in \u001b[0;36mreadinto\u001b[0;34m(self, b)\u001b[0m\n\u001b[1;32m     66\u001b[0m     \u001b[0;32mdef\u001b[0m \u001b[0mreadinto\u001b[0m\u001b[0;34m(\u001b[0m\u001b[0mself\u001b[0m\u001b[0;34m,\u001b[0m \u001b[0mb\u001b[0m\u001b[0;34m)\u001b[0m\u001b[0;34m:\u001b[0m\u001b[0;34m\u001b[0m\u001b[0;34m\u001b[0m\u001b[0m\n\u001b[1;32m     67\u001b[0m         \u001b[0;32mwith\u001b[0m \u001b[0mmemoryview\u001b[0m\u001b[0;34m(\u001b[0m\u001b[0mb\u001b[0m\u001b[0;34m)\u001b[0m \u001b[0;32mas\u001b[0m \u001b[0mview\u001b[0m\u001b[0;34m,\u001b[0m \u001b[0mview\u001b[0m\u001b[0;34m.\u001b[0m\u001b[0mcast\u001b[0m\u001b[0;34m(\u001b[0m\u001b[0;34m\"B\"\u001b[0m\u001b[0;34m)\u001b[0m \u001b[0;32mas\u001b[0m \u001b[0mbyte_view\u001b[0m\u001b[0;34m:\u001b[0m\u001b[0;34m\u001b[0m\u001b[0;34m\u001b[0m\u001b[0m\n\u001b[0;32m---> 68\u001b[0;31m             \u001b[0mdata\u001b[0m \u001b[0;34m=\u001b[0m \u001b[0mself\u001b[0m\u001b[0;34m.\u001b[0m\u001b[0mread\u001b[0m\u001b[0;34m(\u001b[0m\u001b[0mlen\u001b[0m\u001b[0;34m(\u001b[0m\u001b[0mbyte_view\u001b[0m\u001b[0;34m)\u001b[0m\u001b[0;34m)\u001b[0m\u001b[0;34m\u001b[0m\u001b[0;34m\u001b[0m\u001b[0m\n\u001b[0m\u001b[1;32m     69\u001b[0m             \u001b[0mbyte_view\u001b[0m\u001b[0;34m[\u001b[0m\u001b[0;34m:\u001b[0m\u001b[0mlen\u001b[0m\u001b[0;34m(\u001b[0m\u001b[0mdata\u001b[0m\u001b[0;34m)\u001b[0m\u001b[0;34m]\u001b[0m \u001b[0;34m=\u001b[0m \u001b[0mdata\u001b[0m\u001b[0;34m\u001b[0m\u001b[0;34m\u001b[0m\u001b[0m\n\u001b[1;32m     70\u001b[0m         \u001b[0;32mreturn\u001b[0m \u001b[0mlen\u001b[0m\u001b[0;34m(\u001b[0m\u001b[0mdata\u001b[0m\u001b[0;34m)\u001b[0m\u001b[0;34m\u001b[0m\u001b[0;34m\u001b[0m\u001b[0m\n",
      "\u001b[0;32m/share/software/user/open/python/3.9.0/lib/python3.9/gzip.py\u001b[0m in \u001b[0;36mread\u001b[0;34m(self, size)\u001b[0m\n\u001b[1;32m    507\u001b[0m                                \"end-of-stream marker was reached\")\n\u001b[1;32m    508\u001b[0m \u001b[0;34m\u001b[0m\u001b[0m\n\u001b[0;32m--> 509\u001b[0;31m         \u001b[0mself\u001b[0m\u001b[0;34m.\u001b[0m\u001b[0m_add_read_data\u001b[0m\u001b[0;34m(\u001b[0m \u001b[0muncompress\u001b[0m \u001b[0;34m)\u001b[0m\u001b[0;34m\u001b[0m\u001b[0;34m\u001b[0m\u001b[0m\n\u001b[0m\u001b[1;32m    510\u001b[0m         \u001b[0mself\u001b[0m\u001b[0;34m.\u001b[0m\u001b[0m_pos\u001b[0m \u001b[0;34m+=\u001b[0m \u001b[0mlen\u001b[0m\u001b[0;34m(\u001b[0m\u001b[0muncompress\u001b[0m\u001b[0;34m)\u001b[0m\u001b[0;34m\u001b[0m\u001b[0;34m\u001b[0m\u001b[0m\n\u001b[1;32m    511\u001b[0m         \u001b[0;32mreturn\u001b[0m \u001b[0muncompress\u001b[0m\u001b[0;34m\u001b[0m\u001b[0;34m\u001b[0m\u001b[0m\n",
      "\u001b[0;32m/share/software/user/open/python/3.9.0/lib/python3.9/gzip.py\u001b[0m in \u001b[0;36m_add_read_data\u001b[0;34m(self, data)\u001b[0m\n\u001b[1;32m    512\u001b[0m \u001b[0;34m\u001b[0m\u001b[0m\n\u001b[1;32m    513\u001b[0m     \u001b[0;32mdef\u001b[0m \u001b[0m_add_read_data\u001b[0m\u001b[0;34m(\u001b[0m\u001b[0mself\u001b[0m\u001b[0;34m,\u001b[0m \u001b[0mdata\u001b[0m\u001b[0;34m)\u001b[0m\u001b[0;34m:\u001b[0m\u001b[0;34m\u001b[0m\u001b[0;34m\u001b[0m\u001b[0m\n\u001b[0;32m--> 514\u001b[0;31m         \u001b[0mself\u001b[0m\u001b[0;34m.\u001b[0m\u001b[0m_crc\u001b[0m \u001b[0;34m=\u001b[0m \u001b[0mzlib\u001b[0m\u001b[0;34m.\u001b[0m\u001b[0mcrc32\u001b[0m\u001b[0;34m(\u001b[0m\u001b[0mdata\u001b[0m\u001b[0;34m,\u001b[0m \u001b[0mself\u001b[0m\u001b[0;34m.\u001b[0m\u001b[0m_crc\u001b[0m\u001b[0;34m)\u001b[0m\u001b[0;34m\u001b[0m\u001b[0;34m\u001b[0m\u001b[0m\n\u001b[0m\u001b[1;32m    515\u001b[0m         \u001b[0mself\u001b[0m\u001b[0;34m.\u001b[0m\u001b[0m_stream_size\u001b[0m \u001b[0;34m=\u001b[0m \u001b[0mself\u001b[0m\u001b[0;34m.\u001b[0m\u001b[0m_stream_size\u001b[0m \u001b[0;34m+\u001b[0m \u001b[0mlen\u001b[0m\u001b[0;34m(\u001b[0m\u001b[0mdata\u001b[0m\u001b[0;34m)\u001b[0m\u001b[0;34m\u001b[0m\u001b[0;34m\u001b[0m\u001b[0m\n\u001b[1;32m    516\u001b[0m \u001b[0;34m\u001b[0m\u001b[0m\n",
      "\u001b[0;31mKeyboardInterrupt\u001b[0m: "
     ]
    }
   ],
   "source": [
    "# dont re-run if already ran\n",
    "for con in con_opts:\n",
    "    for mod in model_opts:    \n",
    "        resid_ses1_imgs = glob(f'{first_path}/ses-1/**/*_ses-1_task-{task}_run-0*_contrast-{con}_mask-mni152_mot-opt1_mod-{mod}_{fwhm}_stat-residvar.nii.gz')    \n",
    "        resid_ses2_imgs = glob(f'{first_path}/ses-2/**/*_ses-2_task-{task}_run-0*_contrast-{con}_mask-mni152_mot-opt1_mod-{mod}_{fwhm}_stat-residvar.nii.gz')      \n",
    "\n",
    "        ses1_mean, ses1_sd = mean_sd_img(resid_ses1_imgs)\n",
    "        ses2_mean, ses2_sd = mean_sd_img(resid_ses1_imgs)\n",
    "        ses_mean, ses_sd = mean_sd_img([ses1_mean,ses2_mean])\n",
    "        \n",
    "        ses1_name = f'{ses1_out}/subs-{n}_ses-1_task-{task}_type-session_contrast-{con}_mask-mni152_mot-opt1_mod-{mod}_{fwhm}_stat-residvar.nii.gz'\n",
    "        ses2_name = f'{ses2_out}/subs-{n}_ses-2_task-{task}_type-session_contrast-{con}_mask-mni152_mot-opt1_mod-{mod}_{fwhm}_stat-residvar.nii.gz'\n",
    "        ses_name = f'{ses_out}/subs-{n}_task-{task}_contrast-{con}_mask-mni152_mot-opt1_mod-{mod}_{fwhm}_stat-residvar.nii.gz'\n",
    "\n",
    "        nib.save(ses1_mean, ses1_name)\n",
    "        nib.save(ses2_mean, ses2_name)\n",
    "        nib.save(ses_mean, ses_name)\n"
   ]
  },
  {
   "cell_type": "code",
   "execution_count": 13,
   "id": "4aa940f9",
   "metadata": {},
   "outputs": [],
   "source": [
    "con = 'Lgain-Neut'\n",
    "ant_mod = f'{ses_out}/subs-{n}_task-{task}_contrast-{con}_mask-mni152_mot-opt1_mod-AntMod_{fwhm}_stat-residvar.nii.gz'\n",
    "fix_mod = f'{ses_out}/subs-{n}_task-{task}_contrast-{con}_mask-mni152_mot-opt1_mod-FixMod_{fwhm}_stat-residvar.nii.gz'\n",
    "cue_mod = f'{ses_out}/subs-{n}_task-{task}_contrast-{con}_mask-mni152_mot-opt1_mod-CueMod_{fwhm}_stat-residvar.nii.gz'\n"
   ]
  },
  {
   "cell_type": "code",
   "execution_count": 16,
   "id": "3e29d5c4",
   "metadata": {},
   "outputs": [
    {
     "data": {
      "image/png": "[encoded data removed]",
      "text/plain": [
       "<Figure size 1080x864 with 3 Axes>"
      ]
     },
     "metadata": {
      "needs_background": "light"
     },
     "output_type": "display_data"
    }
   ],
   "source": [
    "bins = 50\n",
    "\n",
    "ant_supra = masking.apply_mask(ant_mod, mask_supra)\n",
    "fix_supra = masking.apply_mask(fix_mod, mask_supra)\n",
    "cue_supra = masking.apply_mask(cue_mod, mask_supra)\n",
    "mod_maps = [ant_supra, fix_supra, cue_supra]\n",
    "mod_names = [\"AntMod\",\"FixMod\",\"CueMod\"]\n",
    "colors = ['white','yellow','blue']\n",
    "\n",
    "fig, axes = plt.subplots(3, 1, figsize=(15, 12))\n",
    "\n",
    "for i, map_mod in enumerate(mod_maps):\n",
    "    label = mod_names[i]\n",
    "    color = colors[i]\n",
    "    axes[i].hist(np.round(map_mod, decimals=1), bins=bins, edgecolor='black', color=color,\n",
    "                 alpha=1, label=label, density=True)\n",
    "    axes[i].legend() \n",
    "    axes[i].set_ylim(0,5)\n",
    "    axes[i].set_xlim(0,4)\n",
    "    axes[i].set_title(f\"{con}\")\n",
    "    axes[i].set_ylabel('Density')\n",
    "plt.tight_layout()\n",
    "plt.show()\n"
   ]
  },
  {
   "cell_type": "code",
   "execution_count": 17,
   "id": "18de4311",
   "metadata": {
    "scrolled": true
   },
   "outputs": [],
   "source": [
    "mod_names = [\"AntMod\",\"FixMod\",\"CueMod\"]\n",
    "con_names = ['Lgain-Neut','Lgain-Base','Sgain-Neut','Sgain-Base']\n",
    "est_names = ['est', 'msbtwn', 'mswthn']\n",
    "ses = 'ses-1'\n",
    "\n",
    "rho_list = []\n",
    "for est in est_names:\n",
    "    for mod in mod_names:\n",
    "        for con in con_names:\n",
    "            est_maps=glob(f'{out_dir}/icc_mods/session/wilson-supra/*contrast-{con}_mask-mni152_mot-opt1_mod-AntMod_{fwhm}_*stat-{est}.nii.gz')\n",
    "            mod_img = f'{ses_out}/subs-{n}_task-{task}_contrast-{con}_mask-mni152_mot-opt1_mod-{mod}_{fwhm}_stat-residvar.nii.gz'\n",
    "            grp_img = f'{ses1_out}/subs-{n}_{ses}_task-{task}_type-session_contrast-{con}_mask-mni152_mot-opt1_mod-{mod}_{fwhm}_stat-cohensd.nii.gz'\n",
    "            rho_icc = similarity.image_similarity(imgfile1=est_maps[0], imgfile2=mod_img, mask=mask_supra, similarity_type = 'spearman')\n",
    "            rho_icccohens = similarity.image_similarity(imgfile1=est_maps[0], imgfile2=grp_img, mask=mask_supra, similarity_type = 'spearman')\n",
    "            rho_residcohens = similarity.image_similarity(imgfile1=mod_img, imgfile2=grp_img, mask=mask_supra, similarity_type = 'spearman')\n",
    "            rho_list.append({\n",
    "                'Model': mod,\n",
    "                'Contrast': con,\n",
    "                'estimate': est,\n",
    "                'icc_rho': rho_icc,\n",
    "                'cohensicc_rho': rho_icccohens,\n",
    "                'coehnsresid_rho': rho_residcohens\n",
    "                \n",
    "            })\n"
   ]
  },
  {
   "cell_type": "code",
   "execution_count": 58,
   "id": "ed19ecd8",
   "metadata": {},
   "outputs": [
    {
     "data": {
      "image/png": "[encoded data removed]",
      "text/plain": [
       "<Figure size 864x576 with 2 Axes>"
      ]
     },
     "metadata": {
      "needs_background": "light"
     },
     "output_type": "display_data"
    }
   ],
   "source": [
    "contrast = \"Lgain-Base\"\n",
    "vmin = -1\n",
    "vmax = 1 \n",
    "\n",
    "rho_df = pd.DataFrame(rho_list)\n",
    "heatmap_rho = rho_df[rho_df[\"Contrast\"] == contrast].pivot_table(index='estimate', \n",
    "                                                                     columns=['Model'], values='icc_rho')\n",
    "plt.figure(figsize=(12, 8))\n",
    "sns.heatmap(heatmap_rho, annot=True, cmap='vlag', linewidths=.5, fmt=\".2f\", vmin=vmin, vmax=vmax)\n",
    "plt.title(f'{sample}: session ICC {contrast} estimates ~ avg {contrast} residual var')\n",
    "plt.show()"
   ]
  },
  {
   "cell_type": "code",
   "execution_count": 59,
   "id": "4e6a193f",
   "metadata": {},
   "outputs": [
    {
     "data": {
      "image/png": "[encoded data removed]",
      "text/plain": [
       "<Figure size 864x576 with 2 Axes>"
      ]
     },
     "metadata": {
      "needs_background": "light"
     },
     "output_type": "display_data"
    }
   ],
   "source": [
    "rho_df = pd.DataFrame(rho_list)\n",
    "heatmap_rho = rho_df[rho_df[\"Contrast\"] == contrast].pivot_table(index='estimate', \n",
    "                                                                     columns=['Model'], values='cohensicc_rho')\n",
    "plt.figure(figsize=(12, 8))\n",
    "sns.heatmap(heatmap_rho, annot=True, cmap='vlag', linewidths=.5, fmt=\".2f\", vmin=vmin, vmax=vmax)\n",
    "plt.title(f'{sample}: session {contrast} cohens d ~ session {contrast} ICC estimates')\n",
    "plt.show()"
   ]
  },
  {
   "cell_type": "code",
   "execution_count": 60,
   "id": "e7207cd8",
   "metadata": {},
   "outputs": [
    {
     "data": {
      "image/png": "[encoded data removed]",
      "text/plain": [
       "<Figure size 720x144 with 2 Axes>"
      ]
     },
     "metadata": {
      "needs_background": "light"
     },
     "output_type": "display_data"
    }
   ],
   "source": [
    "rho_df = pd.DataFrame(rho_list)\n",
    "heatmap_rho = rho_df[rho_df[\"Contrast\"] == contrast].pivot_table(index='Contrast', \n",
    "                                                                 columns=['Model'], values='coehnsresid_rho')\n",
    "plt.figure(figsize=(10, 2))\n",
    "sns.heatmap(heatmap_rho, annot=True, cmap='vlag', linewidths=.5, fmt=\".2f\", vmin=vmin, vmax=vmax)\n",
    "plt.title(f'{sample}: session {contrast} cohens d ~ session {contrast} residual var')\n",
    "plt.show()"
   ]
  },
  {
   "cell_type": "code",
   "execution_count": null,
   "id": "6f8be815",
   "metadata": {},
   "outputs": [],
   "source": []
  },
  {
   "cell_type": "code",
   "execution_count": null,
   "id": "c08a4d34",
   "metadata": {},
   "outputs": [],
   "source": [
    "rho_list = []\n",
    "for est in est_names:\n",
    "    for mod in mod_names:\n",
    "        for con in con_names:\n",
    "            est_maps=glob(f'{out_dir}/icc_mods/run/wilson-supra/*contrast-{con}_mask-mni152_mot-opt1_mod-AntMod_{fwhm}_*stat-{est}.nii.gz')\n",
    "            mod_img = f'{ses1_out}/subs-{n}_{ses}_task-{task}_type-session_contrast-{con}_mask-mni152_mot-opt1_mod-{mod}_{fwhm}_stat-residvar.nii.gz'\n",
    "            rho_maps = similarity.image_similarity(imgfile1=est_maps[0], imgfile2=mod_img, mask=mask_supra, similarity_type = 'spearman')\n",
    "            rho_list.append({\n",
    "            'Model': mod,\n",
    "            'Contrast': con,\n",
    "            'estimate': est,\n",
    "            'rho': rho_maps\n",
    "        })"
   ]
  },
  {
   "cell_type": "code",
   "execution_count": null,
   "id": "84558b9c",
   "metadata": {},
   "outputs": [],
   "source": [
    "rho_df = pd.DataFrame(rho_list)\n",
    "heatmap_rho = rho_df.pivot_table(index='Contrast', columns=['estimate', 'Model'], values='rho')\n",
    "plt.figure(figsize=(12, 8))\n",
    "sns.heatmap(heatmap_rho, annot=True, cmap='magma', linewidths=.5, fmt=\".2f\")\n",
    "plt.title(f'{sample}: Heatmap for run est ~ avg residvar')\n",
    "plt.show()"
   ]
  },
  {
   "cell_type": "markdown",
   "id": "4daa4ffc-02b8-4c8a-ab96-97d1162a4f56",
   "metadata": {},
   "source": [
    "# Group-wise similarity"
   ]
  },
  {
   "cell_type": "markdown",
   "id": "e25d3b21-7310-4234-ad2b-ac98f70fcdd9",
   "metadata": {},
   "source": [
    "## Jaccards & spearman similarity"
   ]
  },
  {
   "cell_type": "markdown",
   "id": "e0c03b16-4a82-4211-ba0a-d7eea29c0fa5",
   "metadata": {},
   "source": [
    "As described in the registered report:\n",
    "\n",
    "*\"Jaccard similarity coefficient is sensitive to thresholding and sample size (Bennett & Miller, 2010), in Aim 1 an equal sample size (e.g., N ~ 60) is chosen for each study to compare how the similarity between sessions varies across studies. For all 360 pipelines, a group-level (average) activation map is estimated for each session. In the case of the Jaccard coefficient, the group maps are thresholded at p < .001. In the case of the Spearman coefficient, the group maps are masked using a suprathreshold task-positive map from NeuroVault. Then, the paths for the pipelines and sessions are called using the pairwise_similarity within the similarity.py script. The resulting coefficients report the similarity between analytic pipelines and sessions for each study. For each study, the coefficients are plotted to reflect the distribution and range of coefficients. Both Jaccard\u0019s and Spearman correlation are reported separately. Like Aim 1 & Aim 2, two HLMs are used to regress the Jaccard coefficients and Spearman correlation on the [four] analytic decisions nested within study. Multiple comparisons corrections are applied using the Tukey adjustment.\"*"
   ]
  },
  {
   "cell_type": "code",
   "execution_count": null,
   "id": "2494b469",
   "metadata": {},
   "outputs": [],
   "source": [
    "contrasts = [\n",
    "    'Lgain-Neut', 'Sgain-Neut',\n",
    "    'Lgain-Base', 'Sgain-Base'\n",
    "]\n",
    "\n",
    "# Model permutations\n",
    "if sample in ['abcd', 'AHRB']:\n",
    "    voxel = 2.4\n",
    "    opts = np.array([1.5,  2, 2.5, 3, 3.5])\n",
    "    fwhm_opt = list(np.round(voxel * opts, 1))\n",
    "elif sample in 'MLS':\n",
    "    voxel = 4\n",
    "    inh_smooth_weight = .50\n",
    "    opts = np.array([1.5, 2, 2.5, 3, 3.5])*inh_smooth_weight\n",
    "    fwhm_opt = list(np.round(voxel * opts, 1))\n",
    "\n",
    "# only including 4; opt 5 is opt3 + subj mFD < .9 & opt6 is opt4 + subj mFD < .9. \n",
    "motion_opt = [\"opt1\", \"opt2\", \"opt3\", \"opt4\"]\n",
    "modtype_opt = [\"CueMod\", \"AntMod\", \"FixMod\"]\n",
    "\n",
    "permutation_list = list(product(contrasts, fwhm_opt, motion_opt, modtype_opt))"
   ]
  },
  {
   "cell_type": "code",
   "execution_count": null,
   "id": "3ed812a9-b0f4-437b-b0a3-4c5da5ae8011",
   "metadata": {},
   "outputs": [],
   "source": [
    "threshold = .4 # mod since t -> d transform\n",
    "similar_list = []\n",
    "n = 0\n",
    "for con, fwhm, motion, model in permutation_list:\n",
    "    n = n + 1\n",
    "    print(f'Running {n} out of {len(permutation_list)}')\n",
    "    # jaccard/ spearman similarity between session 1 and session 2\n",
    "    img1 = f'{group_out}/ses-1/{calc_type}/*type-{calc_type}01_contrast-{con}_mask-mni152_mot-{motion}_mod-{model}_fwhm-{fwhm}_stat-cohensd.nii.gz'\n",
    "    img2 = f'{group_out}/ses-1/{calc_type}/*type-{calc_type}02_contrast-{con}_mask-mni152_mot-{motion}_mod-{model}_fwhm-{fwhm}_stat-cohensd.nii.gz'\n",
    "    jaccard = similarity.image_similarity(imgfile1=img1, imgfile2=img2, thresh = threshold, similarity_type = 'jaccard')\n",
    "    spearman = similarity.image_similarity(imgfile1=img1, imgfile2=img2, mask=mask_supra, similarity_type = 'spearman')\n",
    "    \n",
    "    # spearman rho between session ICC + sess 1 & sess 2 cohens d\n",
    "    ses_icc = f'{icc_est}/**/*wilson-supra_contrast-{con}_mask-mni152_mot-{motion}_mod-{model}_fwhm-{fwhm}*stat-est.nii.gz'\n",
    "    run1 = f'{group_out}/ses-1/{calc_type}/*type-{calc_type}01_contrast-{con}_mask-mni152_mot-{motion}_mod-{model}_fwhm-{fwhm}_stat-cohensd.nii.gz'\n",
    "    run2 = f'{group_out}/ses-1/{calc_type}/*type-{calc_type}02_contrast-{con}_mask-mni152_mot-{motion}_mod-{model}_fwhm-{fwhm}_stat-cohensd.nii.gz'\n",
    "    run1_spear = similarity.image_similarity(imgfile1=ses_icc, imgfile2=run1, mask=mask_supra, similarity_type = 'spearman')\n",
    "    run2_spear = similarity.image_similarity(imgfile1=ses_icc, imgfile2=run2, mask=mask_supra, similarity_type = 'spearman')\n",
    "\n",
    "\n",
    "    similar_list.append({\n",
    "        'con': con,\n",
    "        'fwhm': fwhm,\n",
    "        'motion': motion,\n",
    "        'model': model,\n",
    "        'jaccard': jaccard,\n",
    "        'spearman': spearman,\n",
    "        'run1_icc_cohensd': run1_spear,\n",
    "        'run2_icc_cohensd': run2_spear,\n",
    "        \n",
    "    })\n",
    " "
   ]
  },
  {
   "cell_type": "code",
   "execution_count": null,
   "id": "11fe39e2-f4cd-4a1a-8a58-34262d2c1ef9",
   "metadata": {},
   "outputs": [],
   "source": [
    "similarity_df = pd.DataFrame(similar_list)\n",
    "similarity_df.to_csv(out_similarity, sep='\\t', index=False)"
   ]
  },
  {
   "cell_type": "markdown",
   "id": "95f8bc5b",
   "metadata": {},
   "source": [
    "## Posthc, Session Group Map ~ Session ICC"
   ]
  },
  {
   "cell_type": "code",
   "execution_count": null,
   "id": "1e739133",
   "metadata": {},
   "outputs": [],
   "source": [
    "spear_sim_df = pd.DataFrame(similarity_df[['run1_icc_cohensd','run2_icc_cohensd']])\n",
    "spear_sim_long = pd.melt(spear_sim_df, var_name=\"Session\", value_name=\"SpearmanEstimate\")\n",
    "\n",
    "# Boxplot Spearman rho between Session 1 (or 2) Group Cohen's D map ~ Session ICC est. masked suprathresh\n",
    "plt.figure(figsize=(8, 6))\n",
    "sns.boxplot(x=\"Session\", y=\"SpearmanEstimate\", data=spear_sim_long)\n",
    "plt.ylabel('Estimate')\n",
    "plt.title('Spearman rho: Session ICC ~ Cohens D for Session 1 and Session 2')\n",
    "\n",
    "# Show the plot\n",
    "plt.show()"
   ]
  }
 ],
 "metadata": {
  "kernelspec": {
   "display_name": "Python 3 (ipykernel)",
   "language": "python",
   "name": "python3"
  },
  "language_info": {
   "codemirror_mode": {
    "name": "ipython",
    "version": 3
   },
   "file_extension": ".py",
   "mimetype": "text/x-python",
   "name": "python",
   "nbconvert_exporter": "python",
   "pygments_lexer": "ipython3",
   "version": "3.9.0"
  }
 },
 "nbformat": 4,
 "nbformat_minor": 5
}
