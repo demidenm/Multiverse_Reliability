{
 "cells": [
  {
   "cell_type": "code",
   "execution_count": null,
   "id": "09fafc51",
   "metadata": {},
   "outputs": [],
   "source": [
    "# Uncomment and run if installation does not exist in environment\n",
    "#%pip install numpy\n",
    "#%pip install pandas\n",
    "#%pip install nibabel\n",
    "#%pip install seaborn\n",
    "#%pip install matplotlib\n",
    "#%pip install nilearn\n",
    "#%pip install pyrelimri"
   ]
  },
  {
   "cell_type": "code",
   "execution_count": null,
   "id": "272a4557-ec23-42ab-a378-1f7d2e714e96",
   "metadata": {},
   "outputs": [],
   "source": [
    "import sys\n",
    "import os\n",
    "import argparse\n",
    "import warnings\n",
    "import numpy as np\n",
    "import pandas as pd\n",
    "import nibabel as nib\n",
    "import seaborn as sns\n",
    "import matplotlib.pyplot as plt\n",
    "from nilearn import image, masking, plotting\n",
    "from glob import glob\n",
    "from pyrelimri import similarity\n",
    "from itertools import product\n",
    "warnings.filterwarnings(\"ignore\")"
   ]
  },
  {
   "cell_type": "code",
   "execution_count": null,
   "id": "9b1c912f",
   "metadata": {},
   "outputs": [],
   "source": [
    "def extract_median(img_list, mask_img):\n",
    "    data_list = []\n",
    "    for img in img_list:\n",
    "        base_name = os.path.basename(img)\n",
    "        mask, con, mni, motion, model, fwhm = base_name.split('_')[2:8]\n",
    "    \n",
    "        # get median value\n",
    "        nifti_img = image.load_img(img)\n",
    "        masked_data = masking.apply_mask(nifti_img, mask_img)\n",
    "        median_est = np.round(np.median(masked_data), 3)\n",
    "        \n",
    "        data_list.append({\n",
    "            'mask': mask,\n",
    "            'con': con,\n",
    "            'motion': motion,\n",
    "            'model': model,\n",
    "            'fwhm': fwhm,\n",
    "            'median_est': median_est\n",
    "        })\n",
    "    return pd.DataFrame(data_list)\n",
    "\n",
    "def file_exists(file_path):\n",
    "    return os.path.exists(file_path)\n",
    "\n",
    "# if file doesnt exist, extract media and create file, otherwise load file \n",
    "def process_dataset(imgs, mask, out_file):\n",
    "    if not file_exists(out_file):\n",
    "        print(f'file {out_file} doesnt exist, creating')\n",
    "        df = extract_median(imgs, mask)\n",
    "        df.to_csv(out_file, sep='\\t', index=False)\n",
    "    else:\n",
    "        print(f'Loading existing {out_file}')\n",
    "        df = pd.read_csv(out_file, sep='\\t')\n",
    "    return df\n",
    "\n",
    "def mean_sd_img(list_imgs):\n",
    "    # get data and stack it\n",
    "    img_list = [image.load_img(img_path) for img_path in list_imgs]\n",
    "    img_data = np.stack([img.get_fdata() for img in img_list], axis=-1)\n",
    "    # calculate the mean + sd image\n",
    "    mean_img_data = np.mean(img_data, axis=-1)\n",
    "    sd_img_data = np.std(img_data, axis=-1)\n",
    "    # convert back into space of icc imgs\n",
    "    icc_mean_img = image.new_img_like(img_list[0], mean_img_data)\n",
    "    icc_sd_img = image.new_img_like(img_list[0], sd_img_data)\n",
    "    # return mean + sd img\n",
    "    return icc_mean_img,icc_sd_img\n",
    "\n",
    "def plot_icc_maps(maps, names, coordinates, vmax):\n",
    "    num_maps = len(icc_maps)\n",
    "    num_rows = num_maps // 2 + num_maps % 2  # Calculate the number of rows based on the number of maps\n",
    "    fig, axes = plt.subplots(num_rows, 2, figsize=(15, 12))\n",
    "\n",
    "    for i, map_type in enumerate(icc_maps):\n",
    "        labels = icc_names[i].split('_')\n",
    "        est_lab = labels[1]\n",
    "        thresh_lab = labels[2]\n",
    "\n",
    "        # position\n",
    "        row = i // 2\n",
    "        col = i % 2\n",
    "\n",
    "        # Plot the current map in the corresponding subplot\n",
    "        plotting.plot_stat_map(map_type, display_mode='tiled', title=f'{thresh_lab} {est_lab}',\n",
    "                               cut_coords=coordinates, vmax=vmax, axes=axes[row, col])\n",
    "\n",
    "    plt.tight_layout()\n",
    "    plt.show()\n",
    "\n",
    "def plot_top_maps(imgs, img_index, coordinates, vmax):\n",
    "    fig, axes = plt.subplots(1, 2, figsize=(12, 8))\n",
    "\n",
    "    for i, img in enumerate(imgs):\n",
    "        plotting.plot_stat_map(img[img_index], display_mode='tiled',\n",
    "                               cut_coords=coordinates, vmax=vmax, axes=axes[i])\n",
    "    \n",
    "    plt.tight_layout()\n",
    "    plt.show()\n",
    "    \n",
    "def plot_dist_imgs(supra_imgs, sub_imgs, img_index, mask_supra, mask_sub, \n",
    "                   bins=500, ylim=(0, 1), xlim=(-5, 50), dec_round=1, xlab=''):\n",
    "    masked_supra_data = masking.apply_mask(supra_imgs[img_index], mask_supra)\n",
    "    masked_sub_data = masking.apply_mask(sub_imgs[img_index], mask_sub)\n",
    "\n",
    "    # median for plots\n",
    "    med_supra = np.median(masked_supra_data)\n",
    "    med_sub = np.median(masked_sub_data)\n",
    "\n",
    "    # Plot the distribution\n",
    "    plt.hist(np.round(masked_supra_data, decimals=dec_round), bins=bins, edgecolor='black', color='black',\n",
    "             alpha=1, label='supra-thresh', density=True)  # supra-threshold mask\n",
    "    plt.hist(np.round(masked_sub_data, decimals=dec_round), bins=bins, edgecolor='black', color='yellow',\n",
    "             alpha=0.6, label='sub-thresh', density=True)  # sub-threshold mask\n",
    "\n",
    "    plt.axvline(med_supra, color='red', linestyle='dashed', linewidth=1, label='Median supra-thresh')\n",
    "    plt.axvline(med_sub, color='blue', linestyle='dashed', linewidth=1, label='Median sub-thresh')\n",
    "    plt.ylim(ylim[0], ylim[1])\n",
    "    plt.xlim(xlim[0], xlim[1])\n",
    "\n",
    "    plt.xlabel(f'{xlab}')\n",
    "    plt.ylabel('Density')\n",
    "\n",
    "    plt.legend()\n",
    "    plt.show()"
   ]
  },
  {
   "cell_type": "markdown",
   "id": "76c83290",
   "metadata": {},
   "source": [
    "# Set Study/File Info"
   ]
  },
  {
   "cell_type": "code",
   "execution_count": null,
   "id": "227bab99-667d-422b-b70d-1f96705f9eec",
   "metadata": {},
   "outputs": [],
   "source": [
    "sample='AHRB' # sample, AHRB, MLS or abcd\n",
    "calc_type='session' # session or run\n",
    "data_path=f'/oak/stanford/groups/russpold/data/{sample}'\n",
    "out_dir=f'{data_path}/derivatives/analyses/proj_reliability'\n",
    "icc_est=f'{out_dir}/icc_mods/{calc_type}'\n",
    "group_out=f'{out_dir}/group'"
   ]
  },
  {
   "cell_type": "code",
   "execution_count": null,
   "id": "0d571d49-0240-4043-a70b-445bf6792686",
   "metadata": {},
   "outputs": [],
   "source": [
    "# load images\n",
    "# icc\n",
    "icc_supra_imgs = sorted(glob(f'{icc_est}/**/*wilson-supra_*stat-est.nii.gz'))\n",
    "icc_sub_imgs = sorted(glob(f'{icc_est}/**/*wilson-sub_*stat-est.nii.gz'))\n",
    "# msbs \n",
    "bs_supra_imgs = sorted(glob(f'{icc_est}/**/*wilson-supra_*stat-msbtwn.nii.gz'))\n",
    "bs_sub_imgs = sorted(glob(f'{icc_est}/**/*wilson-sub_*stat-msbtwn.nii.gz'))\n",
    "# msws\n",
    "ws_supra_imgs = sorted(glob(f'{icc_est}/**/*wilson-supra_*stat-mswthn.nii.gz'))\n",
    "ws_sub_imgs = sorted(glob(f'{icc_est}/**/*wilson-sub_*stat-mswthn.nii.gz'))\n",
    "\n",
    "print(\"Acquired lists:\",\n",
    "      len(icc_supra_imgs),len(icc_sub_imgs), \n",
    "      len(bs_supra_imgs),len(bs_sub_imgs),len(ws_supra_imgs),len(ws_sub_imgs))"
   ]
  },
  {
   "cell_type": "code",
   "execution_count": null,
   "id": "449e519f-809f-4978-95c1-b2fb9684b805",
   "metadata": {},
   "outputs": [],
   "source": [
    "# load sub and supra masks\n",
    "mask_supra = f'{data_path}/code/proj_reliability/Multiverse_Reliability/Stage2_Code/brain_mask/MNI152_wilson-supra.nii.gz'\n",
    "mask_sub = f'{data_path}/code/proj_reliability/Multiverse_Reliability/Stage2_Code/brain_mask/MNI152_wilson-sub.nii.gz'"
   ]
  },
  {
   "cell_type": "code",
   "execution_count": null,
   "id": "05f11007-6578-4fe8-b1a3-1e4bb9a740c2",
   "metadata": {},
   "outputs": [],
   "source": [
    "# icc\n",
    "out_icc_supra = f'{out_dir}/file_output/sample-{sample}_type-{calc_type}_stats-est_mask-wilson-supra.tsv'\n",
    "out_icc_sub = f'{out_dir}/file_output/sample-{sample}_type-{calc_type}_stats-est_mask-wilson-sub.tsv'\n",
    "# msbs\n",
    "out_bs_supra = f'{out_dir}/file_output/sample-{sample}_type-{calc_type}_stats-bs_mask-wilson-supra.tsv'\n",
    "out_bs_sub = f'{out_dir}/file_output/sample-{sample}_type-{calc_type}_stats-bs_mask-wilson-sub.tsv'\n",
    "# msws\n",
    "out_ws_supra = f'{out_dir}/file_output/sample-{sample}_type-{calc_type}_stats-ws_mask-wilson-supra.tsv'\n",
    "out_ws_sub = f'{out_dir}/file_output/sample-{sample}_type-{calc_type}_stats-ws_mask-wilson-sub.tsv'\n",
    "# similarity \n",
    "out_similarity= f'{out_dir}/file_output/sample-{sample}_type-{calc_type}_stats-similarity.tsv'"
   ]
  },
  {
   "cell_type": "markdown",
   "id": "208446f1",
   "metadata": {},
   "source": [
    "# Group Map for Ses"
   ]
  },
  {
   "cell_type": "code",
   "execution_count": null,
   "id": "98ce9d64",
   "metadata": {},
   "outputs": [],
   "source": [
    "model_opts = [\"CueMod\", \"FixMod\", \"AntMod\"]\n",
    "cons = [\"Lgain-Neut\", \"Lgain-Base\"]\n",
    "n = 60\n",
    "ses = \"ses-1\"\n",
    "task = \"mid\"\n",
    "motion = \"opt3\"\n",
    "fwhm = \"7.2\"\n",
    "\n",
    "# plotting group session\n",
    "fig, axes = plt.subplots(3, 2, figsize=(14,12))\n",
    "counter = 0\n",
    "\n",
    "for model in model_opts:\n",
    "    for con in cons:\n",
    "        img = f'{group_out}/{ses}/session/subs-{n}_{ses}_task-{task}_type-session_contrast-{con}_mask-mni152_mot-{motion}_mod-{model}_fwhm-{fwhm}_stat-cohensd.nii.gz'\n",
    "        \n",
    "        # Position\n",
    "        row = counter // 2\n",
    "        col = counter % 2\n",
    "        plotting.plot_stat_map(img, display_mode='tiled', title=f'{model} {con}',\n",
    "                               cut_coords=(-10, 8, -10), threshold = .4, vmax=2, axes=axes[row, col])\n",
    "        axes[row, col].title.set_fontsize(10)\n",
    "        \n",
    "        counter += 1\n",
    "        \n",
    "\n",
    "plt.tight_layout()\n",
    "plt.show()"
   ]
  },
  {
   "cell_type": "markdown",
   "id": "8d453814-fc2e-4a87-b0ea-6434735036bb",
   "metadata": {},
   "source": [
    "# Means and Stand Dev of Estimates"
   ]
  },
  {
   "cell_type": "markdown",
   "id": "831ff481-eeb6-477e-8eb9-ad8f4f5be9b0",
   "metadata": {},
   "source": [
    "For Aim 1 (ICC estimate) and Aim 2 (Mean Square Between Subject and Within Subject Variance), stated would include:\n",
    "\n",
    "\"First, voxel-wise average and standard deviation from the resulting ICCs for the 360 model permutations are reported in two 3D volumes.\"\n",
    "\n",
    "Selected coordinated (L) Ventral Striatum based on Neurosynth search term \"ventral striatum\" threshold > 20"
   ]
  },
  {
   "cell_type": "markdown",
   "id": "dab59674-60ce-46f9-b228-b504a00a376f",
   "metadata": {},
   "source": [
    "## ICC est"
   ]
  },
  {
   "cell_type": "code",
   "execution_count": null,
   "id": "45024faa-635e-446c-b31a-300de6624cef",
   "metadata": {},
   "outputs": [],
   "source": [
    "icc_mean_supra, icc_sd_supra = mean_sd_img(icc_supra_imgs)\n",
    "icc_mean_sub, icc_sd_sub = mean_sd_img(icc_sub_imgs)"
   ]
  },
  {
   "cell_type": "code",
   "execution_count": null,
   "id": "5bba426b-bf4f-4345-b917-c0313b8a93c1",
   "metadata": {
    "scrolled": true
   },
   "outputs": [],
   "source": [
    "icc_maps = [icc_mean_supra, icc_sd_supra, icc_mean_sub, icc_sd_sub]\n",
    "icc_names = ['icc_mean_supra', 'icc_sd_supra', 'icc_mean_sub', 'icc_sd_sub']\n",
    "\n",
    "plot_icc_maps(maps=icc_maps, names=icc_names, \n",
    "              coordinates=(-10, 8, -10),vmax=1)"
   ]
  },
  {
   "cell_type": "markdown",
   "id": "e28dbe11-df7f-40b3-9db9-459455b2d6e0",
   "metadata": {},
   "source": [
    "## MSBS est"
   ]
  },
  {
   "cell_type": "code",
   "execution_count": null,
   "id": "4404e997-87f0-4eb4-a6ba-86e53b87999b",
   "metadata": {},
   "outputs": [],
   "source": [
    "bs_mean_supra, bs_sd_supra = mean_sd_img(bs_supra_imgs)\n",
    "bs_mean_sub, bs_sd_sub = mean_sd_img(bs_sub_imgs)"
   ]
  },
  {
   "cell_type": "code",
   "execution_count": null,
   "id": "2406791d",
   "metadata": {},
   "outputs": [],
   "source": [
    "bs_maps = [bs_mean_supra, bs_sd_supra, bs_mean_sub, bs_sd_sub]\n",
    "bs_names = ['bs_mean_supra', 'bs_sd_supra', 'bs_mean_sub', 'bs_sd_sub']\n",
    "\n",
    "plot_icc_maps(maps=bs_maps, names=bs_names, \n",
    "              coordinates=(-10, 8, -10),vmax=20)"
   ]
  },
  {
   "cell_type": "markdown",
   "id": "3254a7c1-823a-4eb7-961d-64857d1d2ff1",
   "metadata": {},
   "source": [
    "## MSWS est"
   ]
  },
  {
   "cell_type": "code",
   "execution_count": null,
   "id": "a43b9af9-36c0-4c06-b5df-752ca2f9604c",
   "metadata": {},
   "outputs": [],
   "source": [
    "ws_mean_supra, ws_sd_supra = mean_sd_img(ws_supra_imgs)\n",
    "ws_mean_sub, ws_sd_sub = mean_sd_img(ws_sub_imgs)"
   ]
  },
  {
   "cell_type": "code",
   "execution_count": null,
   "id": "e02ff383-095c-41a1-b076-90d33a7cc5d0",
   "metadata": {},
   "outputs": [],
   "source": [
    "ws_maps = [ws_mean_supra, ws_sd_supra, ws_mean_sub, ws_sd_sub]\n",
    "ws_names = ['ws_mean_supra', 'ws_sd_supra', 'ws_mean_sub', 'ws_sd_sub']\n",
    "\n",
    "plot_icc_maps(maps=ws_maps, names=ws_names, \n",
    "              coordinates=(-10, 8, -10),vmax=20)"
   ]
  },
  {
   "cell_type": "markdown",
   "id": "1f09d412-e366-4fd2-a32d-4055f9ad7891",
   "metadata": {},
   "source": [
    "# Loading files, Extracting median ICC and providing distribution"
   ]
  },
  {
   "cell_type": "markdown",
   "id": "fae3c5a6-ad93-4eba-9eea-46ed6551b485",
   "metadata": {},
   "source": [
    "For Aim 1 and Aim 2 state would include:\n",
    "\"Second, the range and distribution of median ICCs across each study (three) and analytic decision category (four) are plotted across suprathreshold task-positive and subthreshold ICCs using Rainclouds (Allen et al., 2019) and the median and standard deviation is reported in a table.\"\n",
    "\n",
    "While included here to rank and contain some information, plots will be created in R using raincloud features that are more powerful"
   ]
  },
  {
   "cell_type": "code",
   "execution_count": null,
   "id": "ae744e2e-06d0-4f25-86b7-f41ed4b9bf06",
   "metadata": {},
   "outputs": [],
   "source": [
    "# icc datasets\n",
    "df_icc_supra = process_dataset(icc_supra_imgs, mask_supra, out_icc_supra)\n",
    "df_icc_sub = process_dataset(icc_sub_imgs, mask_sub, out_icc_sub)\n",
    "\n",
    "# msbs datasets\n",
    "df_bs_supra = process_dataset(bs_supra_imgs, mask_supra, out_bs_supra)\n",
    "df_bs_sub = process_dataset(bs_sub_imgs, mask_sub, out_bs_sub)\n",
    "\n",
    "# msws datasets\n",
    "df_ws_supra = process_dataset(ws_supra_imgs, mask_supra, out_ws_supra)\n",
    "df_ws_sub = process_dataset(ws_sub_imgs, mask_sub, out_ws_sub)"
   ]
  },
  {
   "cell_type": "markdown",
   "id": "0da06859-5bc0-499e-b5c4-bc0822fb203f",
   "metadata": {},
   "source": [
    "### sort ICC by median est + img of highest"
   ]
  },
  {
   "cell_type": "code",
   "execution_count": null,
   "id": "43b126ad-c422-4fbd-bb18-7e4d2ce00b3e",
   "metadata": {},
   "outputs": [],
   "source": [
    "df_icc_supra.sort_values(by='median_est', ascending=False)"
   ]
  },
  {
   "cell_type": "code",
   "execution_count": null,
   "id": "d383763b-db1a-4ad6-bc1b-a045891714fe",
   "metadata": {},
   "outputs": [],
   "source": [
    "df_icc_sub.sort_values(by='median_est', ascending=False)"
   ]
  },
  {
   "cell_type": "code",
   "execution_count": null,
   "id": "a92d0900",
   "metadata": {},
   "outputs": [],
   "source": [
    "icc_maps = [icc_supra_imgs, icc_sub_imgs]\n",
    "icc_img = 144\n",
    "\n",
    "plot_top_maps(imgs=icc_maps, img_index=icc_img,\n",
    "              coordinates=(-10, 8, -10), vmax=1)"
   ]
  },
  {
   "cell_type": "code",
   "execution_count": null,
   "id": "91c79b43-e31b-4f5b-8dfb-b187828997b3",
   "metadata": {},
   "outputs": [],
   "source": [
    "model_name = df_icc_supra.loc[icc_img, ['con', 'model', 'fwhm']].values\n",
    "xlab = f'ICC Type:\\n {\", \".join(model_name)}'\n",
    "\n",
    "plot_dist_imgs(supra_imgs=icc_supra_imgs, sub_imgs=icc_sub_imgs, img_index=icc_img,\n",
    "               mask_supra=mask_supra, mask_sub=mask_sub,\n",
    "               bins=100, ylim=(0,5),xlim=(-1,1),dec_round=3,\n",
    "               xlab=xlab)"
   ]
  },
  {
   "cell_type": "code",
   "execution_count": null,
   "id": "fd1033eb",
   "metadata": {},
   "outputs": [],
   "source": [
    "# match to top session test-retest model\n",
    "conditions = (\n",
    "    (df_icc_supra[\"mask\"] == \"mask-wilson-supra\") &\n",
    "    (df_icc_supra[\"con\"] == \"contrast-Lgain-Neut\") &\n",
    "    #(df_icc_supra[\"motion\"] == \"mot-opt3\") &\n",
    "    (df_icc_supra[\"model\"] == \"mod-AntMod\") \n",
    "    #(df_icc_supra[\"fwhm\"] == \"fwhm-8.4\")\n",
    ")\n",
    "\n",
    "df_icc_supra[conditions].sort_values(by='median_est', ascending=False)"
   ]
  },
  {
   "cell_type": "code",
   "execution_count": null,
   "id": "d121c72e",
   "metadata": {
    "scrolled": true
   },
   "outputs": [],
   "source": [
    "icc_maps = [icc_supra_imgs, icc_sub_imgs]\n",
    "icc_img = 79\n",
    "\n",
    "plot_top_maps(imgs=icc_maps, img_index=icc_img,\n",
    "              coordinates=(-10, 8, -10), vmax=1)"
   ]
  },
  {
   "cell_type": "code",
   "execution_count": null,
   "id": "d4c40d11",
   "metadata": {},
   "outputs": [],
   "source": [
    "model_name = df_icc_supra.loc[icc_img, ['con', 'model', 'fwhm']].values\n",
    "xlab = f'ICC Type:\\n {\", \".join(model_name)}'\n",
    "\n",
    "plot_dist_imgs(supra_imgs=icc_supra_imgs, sub_imgs=icc_sub_imgs, img_index=icc_img,\n",
    "               mask_supra=mask_supra, mask_sub=mask_sub,\n",
    "               bins=100, ylim=(0,5),xlim=(-1,1),dec_round=3,\n",
    "               xlab=xlab)"
   ]
  },
  {
   "cell_type": "markdown",
   "id": "8e4fd094-9041-426e-9854-3065449453b4",
   "metadata": {},
   "source": [
    "### sort MSBS by median est + img of highest"
   ]
  },
  {
   "cell_type": "code",
   "execution_count": null,
   "id": "d479a4dc-2f61-4be4-ac3e-aac1242a4186",
   "metadata": {},
   "outputs": [],
   "source": [
    "df_bs_supra.sort_values(by='median_est', ascending=False)"
   ]
  },
  {
   "cell_type": "code",
   "execution_count": null,
   "id": "3eaa9aa2-92f7-4599-8a14-18e0853dbcf3",
   "metadata": {},
   "outputs": [],
   "source": [
    "df_bs_sub.sort_values(by='median_est', ascending=False)"
   ]
  },
  {
   "cell_type": "code",
   "execution_count": null,
   "id": "a9ba1bbe-b525-4227-ab62-9f8755cd0682",
   "metadata": {},
   "outputs": [],
   "source": [
    "bs_maps = [bs_supra_imgs, bs_sub_imgs]\n",
    "bs_img = 125\n",
    "\n",
    "plot_top_maps(imgs=bs_maps,\n",
    "              img_index=bs_img,\n",
    "              coordinates=(-10, 8, -10), \n",
    "              vmax=50)"
   ]
  },
  {
   "cell_type": "code",
   "execution_count": null,
   "id": "da24b240-af8a-41ac-8d8b-e08b7dc1e496",
   "metadata": {},
   "outputs": [],
   "source": [
    "model_name = df_bs_supra.loc[bs_img, ['con', 'model', 'fwhm']].values\n",
    "xlab = f'MSBS Model Type:\\n {\", \".join(model_name)}'\n",
    "\n",
    "plot_dist_imgs(supra_imgs=bs_supra_imgs, sub_imgs=bs_sub_imgs, img_index=bs_img,\n",
    "               mask_supra=mask_supra, mask_sub=mask_sub,\n",
    "               bins=500,ylim=(0,1),xlim=(-5,50),\n",
    "               xlab=xlab)"
   ]
  },
  {
   "cell_type": "markdown",
   "id": "d12580d4-39eb-458a-b523-f36dc541cfcb",
   "metadata": {},
   "source": [
    "### sort MSWS by median est + img of highest"
   ]
  },
  {
   "cell_type": "code",
   "execution_count": null,
   "id": "bc8f9fbe-623c-43f8-89cd-81c769d06ab8",
   "metadata": {},
   "outputs": [],
   "source": [
    "df_ws_supra.sort_values(by='median_est', ascending=False)"
   ]
  },
  {
   "cell_type": "code",
   "execution_count": null,
   "id": "ff61c497-57c5-4f16-a8f9-8495cb049394",
   "metadata": {},
   "outputs": [],
   "source": [
    "df_ws_sub.sort_values(by='median_est', ascending=False)"
   ]
  },
  {
   "cell_type": "code",
   "execution_count": null,
   "id": "e5ac32e6-97c6-47a8-9133-c62bc0406d06",
   "metadata": {},
   "outputs": [],
   "source": [
    "ws_maps = [ws_supra_imgs, ws_sub_imgs]\n",
    "ws_img = 125\n",
    "\n",
    "plot_top_maps(imgs=ws_maps,\n",
    "              img_index=ws_img,\n",
    "              coordinates=(-10, 8, -10), vmax=50)"
   ]
  },
  {
   "cell_type": "code",
   "execution_count": null,
   "id": "9595cd5a-91f9-4912-9343-2e2a1d04a412",
   "metadata": {},
   "outputs": [],
   "source": [
    "model_name = df_ws_supra.loc[ws_img, ['con', 'model', 'fwhm']].values\n",
    "xlab = f'MSWS Type:\\n {\", \".join(model_name)}'\n",
    "\n",
    "plot_dist_imgs(supra_imgs=ws_supra_imgs, sub_imgs=ws_sub_imgs, img_index=ws_img,\n",
    "               mask_supra=mask_supra, mask_sub=mask_sub,\n",
    "               bins=500,ylim=(0,5),xlim=(-5,50),\n",
    "               xlab=xlab)"
   ]
  },
  {
   "cell_type": "markdown",
   "id": "4daa4ffc-02b8-4c8a-ab96-97d1162a4f56",
   "metadata": {},
   "source": [
    "# Group-wise similarity"
   ]
  },
  {
   "cell_type": "markdown",
   "id": "e25d3b21-7310-4234-ad2b-ac98f70fcdd9",
   "metadata": {},
   "source": [
    "## Jaccards & spearman similarity"
   ]
  },
  {
   "cell_type": "markdown",
   "id": "e0c03b16-4a82-4211-ba0a-d7eea29c0fa5",
   "metadata": {},
   "source": [
    "As described in the registered report:\n",
    "\n",
    "*\"Jaccard similarity coefficient is sensitive to thresholding and sample size (Bennett & Miller, 2010), in Aim 1 an equal sample size (e.g., N ~ 60) is chosen for each study to compare how the similarity between sessions varies across studies. For all 360 pipelines, a group-level (average) activation map is estimated for each session. In the case of the Jaccard coefficient, the group maps are thresholded at p < .001. In the case of the Spearman coefficient, the group maps are masked using a suprathreshold task-positive map from NeuroVault. Then, the paths for the pipelines and sessions are called using the pairwise_similarity within the similarity.py script. The resulting coefficients report the similarity between analytic pipelines and sessions for each study. For each study, the coefficients are plotted to reflect the distribution and range of coefficients. Both Jaccard\u0019s and Spearman correlation are reported separately. Like Aim 1 & Aim 2, two HLMs are used to regress the Jaccard coefficients and Spearman correlation on the [four] analytic decisions nested within study. Multiple comparisons corrections are applied using the Tukey adjustment.\"*"
   ]
  },
  {
   "cell_type": "code",
   "execution_count": null,
   "id": "1a3a7876-3360-4c24-b53f-b903b93b0e3a",
   "metadata": {},
   "outputs": [],
   "source": [
    "contrasts = [\n",
    "    'Lgain-Neut', 'Sgain-Neut',\n",
    "    'Lgain-Base', 'Sgain-Base'\n",
    "]\n",
    "\n",
    "# Model permutations\n",
    "if sample in ['abcd', 'AHRB']:\n",
    "    voxel = 2.4\n",
    "    opts = np.array([1.5,  2, 2.5, 3, 3.5])\n",
    "    fwhm_opt = list(np.round(voxel * opts, 1))\n",
    "elif sample in 'MLS':\n",
    "    voxel = 4\n",
    "    inh_smooth_weight = .50\n",
    "    opts = np.array([1.5, 2, 2.5, 3, 3.5])*inh_smooth_weight\n",
    "    fwhm_opt = list(np.round(voxel * opts, 1))\n",
    "\n",
    "# only including 4; opt 5 is opt3 + subj mFD < .9 & opt6 is opt4 + subj mFD < .9. \n",
    "motion_opt = [\"opt1\", \"opt2\", \"opt3\", \"opt4\"]\n",
    "modtype_opt = [\"CueMod\", \"AntMod\", \"FixMod\"]\n",
    "\n",
    "permutation_list = list(product(contrasts, fwhm_opt, motion_opt, modtype_opt))"
   ]
  },
  {
   "cell_type": "code",
   "execution_count": null,
   "id": "3ed812a9-b0f4-437b-b0a3-4c5da5ae8011",
   "metadata": {},
   "outputs": [],
   "source": [
    "threshold = .4 # mod since t -> d transform\n",
    "similar_list = []\n",
    "n = 0\n",
    "for con, fwhm, motion, model in permutation_list:\n",
    "    n = n + 1\n",
    "    print(f'Running {n} out of {len(permutation_list)}')\n",
    "    # jaccard/ spearman similarity between session 1 and session 2\n",
    "    img1 = f'{group_out}/ses-1/{calc_type}/*contrast-{con}_mask-mni152_mot-{motion}_mod-{model}_fwhm-{fwhm}_stat-cohensd.nii.gz'\n",
    "    img2 = f'{group_out}/ses-2/{calc_type}/*contrast-{con}_mask-mni152_mot-{motion}_mod-{model}_fwhm-{fwhm}_stat-cohensd.nii.gz'\n",
    "    jaccard = similarity.image_similarity(imgfile1=img1, imgfile2=img2, thresh = threshold, similarity_type = 'jaccard')\n",
    "    spearman = similarity.image_similarity(imgfile1=img1, imgfile2=img2, mask=mask_supra, similarity_type = 'spearman')\n",
    "    \n",
    "    # spearman rho between session ICC + sess 1 & sess 2 cohens d\n",
    "    ses_icc = f'{icc_est}/**/*wilson-supra_contrast-{con}_mask-mni152_mot-{motion}_mod-{model}_fwhm-{fwhm}*stat-est.nii.gz'\n",
    "    ses1 = f'{group_out}/ses-1/{calc_type}/*contrast-{con}_mask-mni152_mot-{motion}_mod-{model}_fwhm-{fwhm}_stat-cohensd.nii.gz'\n",
    "    ses2 = f'{group_out}/ses-2/{calc_type}/*contrast-{con}_mask-mni152_mot-{motion}_mod-{model}_fwhm-{fwhm}_stat-cohensd.nii.gz'\n",
    "    ses1_spear = similarity.image_similarity(imgfile1=ses_icc, imgfile2=ses1, mask=mask_supra, similarity_type = 'spearman')\n",
    "    ses2_spear = similarity.image_similarity(imgfile1=ses_icc, imgfile2=ses2, mask=mask_supra, similarity_type = 'spearman')\n",
    "\n",
    "\n",
    "    similar_list.append({\n",
    "        'con': con,\n",
    "        'fwhm': fwhm,\n",
    "        'motion': motion,\n",
    "        'model': model,\n",
    "        'jaccard': jaccard,\n",
    "        'spearman': spearman,\n",
    "        'ses1_icc_cohensd': ses1_spear,\n",
    "        'ses2_icc_cohensd': ses2_spear,\n",
    "        \n",
    "    })\n",
    " "
   ]
  },
  {
   "cell_type": "code",
   "execution_count": null,
   "id": "11fe39e2-f4cd-4a1a-8a58-34262d2c1ef9",
   "metadata": {},
   "outputs": [],
   "source": [
    "similarity_df = pd.DataFrame(similar_list)\n",
    "similarity_df.to_csv(out_similarity, sep='\\t', index=False)"
   ]
  },
  {
   "cell_type": "markdown",
   "id": "82baec0d",
   "metadata": {},
   "source": [
    "## Posthc, Session Group Map ~ Session ICC"
   ]
  },
  {
   "cell_type": "code",
   "execution_count": null,
   "id": "9722583a",
   "metadata": {},
   "outputs": [],
   "source": [
    "spear_sim_df = pd.DataFrame(similarity_df[['ses1_icc_cohensd','ses2_icc_cohensd']])\n",
    "spear_sim_long = pd.melt(spear_sim_df, var_name=\"Session\", value_name=\"SpearmanEstimate\")\n",
    "\n",
    "# Boxplot Spearman rho between Session 1 (or 2) Group Cohen's D map ~ Session ICC est. masked suprathresh\n",
    "plt.figure(figsize=(8, 6))\n",
    "sns.boxplot(x=\"Session\", y=\"SpearmanEstimate\", data=spear_sim_long)\n",
    "plt.ylabel('Estimate')\n",
    "plt.title('Spearman rho: Session ICC ~ Cohens D for Session 1 and Session 2')\n",
    "\n",
    "# Show the plot\n",
    "plt.show()"
   ]
  }
 ],
 "metadata": {
  "kernelspec": {
   "display_name": "Python 3 (ipykernel)",
   "language": "python",
   "name": "python3"
  },
  "language_info": {
   "codemirror_mode": {
    "name": "ipython",
    "version": 3
   },
   "file_extension": ".py",
   "mimetype": "text/x-python",
   "name": "python",
   "nbconvert_exporter": "python",
   "pygments_lexer": "ipython3",
   "version": "3.9.0"
  }
 },
 "nbformat": 4,
 "nbformat_minor": 5
}
